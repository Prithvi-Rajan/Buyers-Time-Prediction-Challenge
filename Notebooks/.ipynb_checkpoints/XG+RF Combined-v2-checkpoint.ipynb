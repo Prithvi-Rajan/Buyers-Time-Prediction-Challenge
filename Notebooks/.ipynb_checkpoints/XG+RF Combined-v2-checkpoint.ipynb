{
 "cells": [
  {
   "cell_type": "code",
   "execution_count": 1,
   "metadata": {},
   "outputs": [],
   "source": [
    "import pandas as pd\n",
    "import numpy as np\n",
    "import matplotlib.pyplot as plt\n",
    "import seaborn as sns\n",
    "%matplotlib inline"
   ]
  },
  {
   "cell_type": "code",
   "execution_count": 6,
   "metadata": {},
   "outputs": [],
   "source": [
    "train = pd.read_csv('../Data/train_Best_XGB')\n",
    "test = pd.read_csv('../Data/test_Best_XGB')"
   ]
  },
  {
   "cell_type": "code",
   "execution_count": 7,
   "metadata": {},
   "outputs": [],
   "source": [
    "# train.corr()['time_spent'].sort_values()[:-1]"
   ]
  },
  {
   "cell_type": "code",
   "execution_count": 8,
   "metadata": {},
   "outputs": [],
   "source": [
    "X_train = train.drop('time_spent', axis=1)\n",
    "y_train = train['time_spent']"
   ]
  },
  {
   "cell_type": "code",
   "execution_count": 9,
   "metadata": {},
   "outputs": [
    {
     "name": "stderr",
     "output_type": "stream",
     "text": [
      "Using TensorFlow backend.\n"
     ]
    }
   ],
   "source": [
    "from keras.layers import Dense, Dropout\n",
    "from keras.models import Sequential\n",
    "from keras.callbacks import EarlyStopping"
   ]
  },
  {
   "cell_type": "code",
   "execution_count": 10,
   "metadata": {},
   "outputs": [],
   "source": [
    "from sklearn.model_selection import train_test_split\n",
    "val_X_train, val_X_test, val_y_train, val_y_test = train_test_split(X_train, y_train, test_size=0.15)"
   ]
  },
  {
   "cell_type": "raw",
   "metadata": {},
   "source": [
    "X_train.columns\n",
    "['Unnamed: 0', 'Unnamed: 0.1', 'session_number', 'purchased',\n",
    "       'added_in_cart', 'checked_out', 'Android Tablet', 'Desktop', 'Other',\n",
    "       'Unknown', 'iPad', 'iPhone', 'app', 'August', 'December', 'February',\n",
    "       'January', 'July', 'June', 'March', 'May', 'November', 'October',\n",
    "       'September', 'Monday', 'Saturday', 'Sunday', 'Thursday', 'Tuesday',\n",
    "       'Wednesday', '2020', 'xg_op_pred', 'rf_op_pred', 'trained_xgb_op']"
   ]
  },
  {
   "cell_type": "code",
   "execution_count": 7,
   "metadata": {},
   "outputs": [],
   "source": [
    "from sklearn.preprocessing import StandardScaler"
   ]
  },
  {
   "cell_type": "code",
   "execution_count": 8,
   "metadata": {},
   "outputs": [],
   "source": [
    "scaler = StandardScaler()"
   ]
  },
  {
   "cell_type": "code",
   "execution_count": 11,
   "metadata": {},
   "outputs": [],
   "source": [
    "scaled_x_train = scaler.fit_transform(val_X_train[cols])"
   ]
  },
  {
   "cell_type": "code",
   "execution_count": 12,
   "metadata": {},
   "outputs": [],
   "source": [
    "scaled_x_test =scaler.transform(val_X_test[cols])"
   ]
  },
  {
   "cell_type": "code",
   "execution_count": 113,
   "metadata": {},
   "outputs": [
    {
     "data": {
      "text/plain": [
       "6"
      ]
     },
     "execution_count": 113,
     "metadata": {},
     "output_type": "execute_result"
    }
   ],
   "source": [
    "cols = ['session_number', 'purchased', 'added_in_cart','checked_out','trained_xgb_op','xg_op_pred']\n",
    "len(cols)"
   ]
  },
  {
   "cell_type": "code",
   "execution_count": 94,
   "metadata": {},
   "outputs": [],
   "source": [
    "es_callback = EarlyStopping(patience=5, restore_best_weights=True, mode='min', monitor='val_los', min_delta=150000)"
   ]
  },
  {
   "cell_type": "code",
   "execution_count": 78,
   "metadata": {},
   "outputs": [],
   "source": [
    "from keras import optimizers as opts"
   ]
  },
  {
   "cell_type": "code",
   "execution_count": 117,
   "metadata": {},
   "outputs": [],
   "source": [
    "dnn = Sequential()\n",
    "opt = opts.Adam(learning_rate=0.1)\n",
    "\n",
    "\n",
    "dnn.add(Dense(6,activation='relu'))\n",
    "# dnn.add(Dropout(0.5))\n",
    "\n",
    "\n",
    "dnn.add(Dense(3,activation='relu'))\n",
    "\n",
    "\n",
    "dnn.add(Dense(1,activation='relu'))\n",
    "\n",
    "\n",
    "\n",
    "dnn.compile(optimizer=opt, loss='mse',)"
   ]
  },
  {
   "cell_type": "code",
   "execution_count": 118,
   "metadata": {},
   "outputs": [
    {
     "name": "stdout",
     "output_type": "stream",
     "text": [
      "Train on 4614 samples, validate on 815 samples\n",
      "Epoch 1/100\n",
      "4614/4614 [==============================] - 0s 74us/step - loss: 1868811.6681 - val_loss: 2137587.2294\n",
      "Epoch 2/100\n",
      "3584/4614 [======================>.......] - ETA: 0s - loss: 1577832.7194"
     ]
    },
    {
     "name": "stderr",
     "output_type": "stream",
     "text": [
      "C:\\Users\\karth\\anaconda3\\envs\\tenflow\\lib\\site-packages\\keras\\callbacks\\callbacks.py:846: RuntimeWarning: Early stopping conditioned on metric `val_los` which is not available. Available metrics are: val_loss,loss\n",
      "  (self.monitor, ','.join(list(logs.keys()))), RuntimeWarning\n"
     ]
    },
    {
     "name": "stdout",
     "output_type": "stream",
     "text": [
      "4614/4614 [==============================] - 0s 48us/step - loss: 1543235.4401 - val_loss: 1950790.9574\n",
      "Epoch 3/100\n",
      "4614/4614 [==============================] - 0s 47us/step - loss: 2521015.1966 - val_loss: 3364240.5840\n",
      "Epoch 4/100\n",
      "4614/4614 [==============================] - 0s 46us/step - loss: 3345668.5588 - val_loss: 3335796.5509\n",
      "Epoch 5/100\n",
      "4614/4614 [==============================] - 0s 48us/step - loss: 3323353.8632 - val_loss: 3312575.1650\n",
      "Epoch 6/100\n",
      "4614/4614 [==============================] - 0s 46us/step - loss: 3303980.4390 - val_loss: 3291572.1190\n",
      "Epoch 7/100\n",
      "4614/4614 [==============================] - 0s 46us/step - loss: 3286922.9695 - val_loss: 3272642.3086\n",
      "Epoch 8/100\n",
      "4614/4614 [==============================] - 0s 46us/step - loss: 3271276.3081 - val_loss: 3255338.6429\n",
      "Epoch 9/100\n",
      "4614/4614 [==============================] - 0s 46us/step - loss: 3256513.3464 - val_loss: 3238721.4196\n",
      "Epoch 10/100\n",
      "4614/4614 [==============================] - 0s 45us/step - loss: 3242587.1936 - val_loss: 3222770.9706\n",
      "Epoch 11/100\n",
      "4614/4614 [==============================] - 0s 45us/step - loss: 3229271.4276 - val_loss: 3207874.8049\n",
      "Epoch 12/100\n",
      "4614/4614 [==============================] - 0s 46us/step - loss: 3216390.0824 - val_loss: 3192927.2215\n",
      "Epoch 13/100\n",
      "4614/4614 [==============================] - 0s 46us/step - loss: 3204162.9015 - val_loss: 3179246.6656\n",
      "Epoch 14/100\n",
      "4614/4614 [==============================] - 0s 46us/step - loss: 3192396.2481 - val_loss: 3165389.3804\n",
      "Epoch 15/100\n",
      "4614/4614 [==============================] - 0s 46us/step - loss: 3181224.9059 - val_loss: 3152414.8982\n",
      "Epoch 16/100\n",
      "4614/4614 [==============================] - 0s 46us/step - loss: 3170461.8419 - val_loss: 3139883.6558\n",
      "Epoch 17/100\n",
      "4614/4614 [==============================] - 0s 46us/step - loss: 3160157.6180 - val_loss: 3127813.0699\n",
      "Epoch 18/100\n",
      "4614/4614 [==============================] - 0s 46us/step - loss: 3150117.3722 - val_loss: 3116150.5374\n",
      "Epoch 19/100\n",
      "4614/4614 [==============================] - 0s 46us/step - loss: 3140518.2238 - val_loss: 3104842.2313\n",
      "Epoch 20/100\n",
      "4614/4614 [==============================] - 0s 47us/step - loss: 3131309.8271 - val_loss: 3094012.3294\n",
      "Epoch 21/100\n",
      "4614/4614 [==============================] - 0s 46us/step - loss: 3122374.0216 - val_loss: 3083288.4908\n",
      "Epoch 22/100\n",
      "4614/4614 [==============================] - 0s 48us/step - loss: 3113842.4305 - val_loss: 3073171.5055\n",
      "Epoch 23/100\n",
      "4614/4614 [==============================] - 0s 53us/step - loss: 3105652.8730 - val_loss: 3063471.8589\n",
      "Epoch 24/100\n",
      "4614/4614 [==============================] - 0s 50us/step - loss: 3097723.4434 - val_loss: 3053835.1546\n",
      "Epoch 25/100\n",
      "4614/4614 [==============================] - 0s 51us/step - loss: 3090141.8497 - val_loss: 3044759.2350\n",
      "Epoch 26/100\n",
      "4614/4614 [==============================] - 0s 53us/step - loss: 3082819.5326 - val_loss: 3035777.7282\n",
      "Epoch 27/100\n",
      "4614/4614 [==============================] - 0s 43us/step - loss: 3075764.5855 - val_loss: 3026929.0785\n",
      "Epoch 28/100\n",
      "4614/4614 [==============================] - 0s 44us/step - loss: 3069009.3074 - val_loss: 3018727.5221\n",
      "Epoch 29/100\n",
      "4614/4614 [==============================] - 0s 45us/step - loss: 3062497.3465 - val_loss: 3010880.8387\n",
      "Epoch 30/100\n",
      "4614/4614 [==============================] - 0s 52us/step - loss: 3056222.5739 - val_loss: 3003041.3337\n",
      "Epoch 31/100\n",
      "4614/4614 [==============================] - 0s 48us/step - loss: 3050189.7529 - val_loss: 2995463.9748\n",
      "Epoch 32/100\n",
      "4614/4614 [==============================] - 0s 46us/step - loss: 3044506.0665 - val_loss: 2988270.2521\n",
      "Epoch 33/100\n",
      "4614/4614 [==============================] - 0s 47us/step - loss: 3039086.6729 - val_loss: 2981633.5730\n",
      "Epoch 34/100\n",
      "4614/4614 [==============================] - 0s 46us/step - loss: 3033859.0796 - val_loss: 2974816.5939\n",
      "Epoch 35/100\n",
      "4614/4614 [==============================] - 0s 46us/step - loss: 3028797.9568 - val_loss: 2968248.7037\n",
      "Epoch 36/100\n",
      "4614/4614 [==============================] - 0s 45us/step - loss: 3024104.3140 - val_loss: 2962218.2706\n",
      "Epoch 37/100\n",
      "4614/4614 [==============================] - 0s 46us/step - loss: 3019572.3713 - val_loss: 2956156.1951\n",
      "Epoch 38/100\n",
      "4614/4614 [==============================] - 0s 46us/step - loss: 3015264.4023 - val_loss: 2950714.4988\n",
      "Epoch 39/100\n",
      "4614/4614 [==============================] - 0s 47us/step - loss: 3011321.7380 - val_loss: 2945441.5086\n",
      "Epoch 40/100\n",
      "4614/4614 [==============================] - 0s 48us/step - loss: 3007481.1859 - val_loss: 2940317.3239\n",
      "Epoch 41/100\n",
      "4614/4614 [==============================] - 0s 49us/step - loss: 3003923.9506 - val_loss: 2935505.2589\n",
      "Epoch 42/100\n",
      "4614/4614 [==============================] - 0s 50us/step - loss: 3000514.9355 - val_loss: 2930836.2620\n",
      "Epoch 43/100\n",
      "4614/4614 [==============================] - 0s 48us/step - loss: 2997261.9350 - val_loss: 2926329.4804\n",
      "Epoch 44/100\n",
      "4614/4614 [==============================] - 0s 46us/step - loss: 2994143.7718 - val_loss: 2922015.3982\n",
      "Epoch 45/100\n",
      "4614/4614 [==============================] - 0s 48us/step - loss: 2991227.3502 - val_loss: 2917936.4724\n",
      "Epoch 46/100\n",
      "4614/4614 [==============================] - 0s 45us/step - loss: 2988475.6311 - val_loss: 2914103.9331\n",
      "Epoch 47/100\n",
      "4614/4614 [==============================] - 0s 46us/step - loss: 2985885.2478 - val_loss: 2910464.5656\n",
      "Epoch 48/100\n",
      "4614/4614 [==============================] - 0s 48us/step - loss: 2983415.8329 - val_loss: 2906624.7589\n",
      "Epoch 49/100\n",
      "4614/4614 [==============================] - 0s 46us/step - loss: 2981124.1661 - val_loss: 2903547.4853\n",
      "Epoch 50/100\n",
      "4614/4614 [==============================] - 0s 45us/step - loss: 2978859.8130 - val_loss: 2900080.8865\n",
      "Epoch 51/100\n",
      "4614/4614 [==============================] - 0s 45us/step - loss: 2976862.7345 - val_loss: 2897164.9859\n",
      "Epoch 52/100\n",
      "4614/4614 [==============================] - 0s 46us/step - loss: 2974997.4567 - val_loss: 2894350.6656\n",
      "Epoch 53/100\n",
      "4614/4614 [==============================] - 0s 48us/step - loss: 2973237.2889 - val_loss: 2891662.8982\n",
      "Epoch 54/100\n",
      "4614/4614 [==============================] - 0s 47us/step - loss: 2971616.5765 - val_loss: 2889102.8301\n",
      "Epoch 55/100\n",
      "4614/4614 [==============================] - 0s 47us/step - loss: 2970067.7910 - val_loss: 2886630.3914\n",
      "Epoch 56/100\n",
      "4614/4614 [==============================] - 0s 48us/step - loss: 2968665.5962 - val_loss: 2884396.9577\n",
      "Epoch 57/100\n",
      "4614/4614 [==============================] - 0s 46us/step - loss: 2967316.1631 - val_loss: 2882216.0761\n",
      "Epoch 58/100\n",
      "4614/4614 [==============================] - 0s 47us/step - loss: 2966118.7260 - val_loss: 2880045.3092\n",
      "Epoch 59/100\n",
      "4614/4614 [==============================] - 0s 46us/step - loss: 2964977.6671 - val_loss: 2878173.7902\n",
      "Epoch 60/100\n",
      "4614/4614 [==============================] - 0s 47us/step - loss: 2963942.6571 - val_loss: 2876312.7706\n",
      "Epoch 61/100\n",
      "4614/4614 [==============================] - 0s 47us/step - loss: 2962909.1531 - val_loss: 2874658.2393\n",
      "Epoch 62/100\n",
      "4614/4614 [==============================] - 0s 45us/step - loss: 2962040.9553 - val_loss: 2872944.2264\n",
      "Epoch 63/100\n",
      "4614/4614 [==============================] - 0s 46us/step - loss: 2961220.6453 - val_loss: 2871394.3865\n",
      "Epoch 64/100\n",
      "4614/4614 [==============================] - 0s 46us/step - loss: 2960468.9728 - val_loss: 2870020.9184\n",
      "Epoch 65/100\n",
      "4614/4614 [==============================] - 0s 46us/step - loss: 2959772.1096 - val_loss: 2868851.2546\n",
      "Epoch 66/100\n",
      "4614/4614 [==============================] - 0s 46us/step - loss: 2959075.0360 - val_loss: 2867338.7509\n",
      "Epoch 67/100\n",
      "4614/4614 [==============================] - 0s 45us/step - loss: 2958480.6328 - val_loss: 2866122.9325\n",
      "Epoch 68/100\n",
      "4614/4614 [==============================] - 0s 46us/step - loss: 2957951.9206 - val_loss: 2865173.2491\n",
      "Epoch 69/100\n",
      "4614/4614 [==============================] - 0s 46us/step - loss: 2957499.5640 - val_loss: 2864151.6123\n",
      "Epoch 70/100\n",
      "4614/4614 [==============================] - 0s 45us/step - loss: 2957050.3763 - val_loss: 2863208.7080\n",
      "Epoch 71/100\n",
      "4614/4614 [==============================] - 0s 45us/step - loss: 2956650.2888 - val_loss: 2862302.8607\n",
      "Epoch 72/100\n"
     ]
    },
    {
     "name": "stdout",
     "output_type": "stream",
     "text": [
      "4614/4614 [==============================] - 0s 45us/step - loss: 2956265.5809 - val_loss: 2861446.3466\n",
      "Epoch 73/100\n",
      "4614/4614 [==============================] - 0s 45us/step - loss: 2955926.9768 - val_loss: 2860582.7227\n",
      "Epoch 74/100\n",
      "4614/4614 [==============================] - 0s 45us/step - loss: 2955622.2559 - val_loss: 2859855.8460\n",
      "Epoch 75/100\n",
      "4614/4614 [==============================] - 0s 45us/step - loss: 2955330.4143 - val_loss: 2859217.9018\n",
      "Epoch 76/100\n",
      "4614/4614 [==============================] - 0s 45us/step - loss: 2955063.4920 - val_loss: 2858578.3828\n",
      "Epoch 77/100\n",
      "4614/4614 [==============================] - 0s 45us/step - loss: 2954843.1007 - val_loss: 2857987.8196\n",
      "Epoch 78/100\n",
      "4614/4614 [==============================] - 0s 49us/step - loss: 2954591.4271 - val_loss: 2857333.7288\n",
      "Epoch 79/100\n",
      "4614/4614 [==============================] - 0s 45us/step - loss: 2954371.5379 - val_loss: 2856727.8865\n",
      "Epoch 80/100\n",
      "4614/4614 [==============================] - 0s 45us/step - loss: 2954195.3757 - val_loss: 2856274.9859\n",
      "Epoch 81/100\n",
      "4614/4614 [==============================] - 0s 46us/step - loss: 2954020.5865 - val_loss: 2855703.2509\n",
      "Epoch 82/100\n",
      "4614/4614 [==============================] - 0s 45us/step - loss: 2953855.6386 - val_loss: 2855177.7730\n",
      "Epoch 83/100\n",
      "4614/4614 [==============================] - 0s 45us/step - loss: 2953713.5360 - val_loss: 2854781.2890\n",
      "Epoch 84/100\n",
      "4614/4614 [==============================] - 0s 47us/step - loss: 2953580.5826 - val_loss: 2854336.7675\n",
      "Epoch 85/100\n",
      "4614/4614 [==============================] - 0s 45us/step - loss: 2953470.4003 - val_loss: 2853945.3479\n",
      "Epoch 86/100\n",
      "4614/4614 [==============================] - 0s 47us/step - loss: 2953348.2485 - val_loss: 2853553.8926\n",
      "Epoch 87/100\n",
      "4614/4614 [==============================] - 0s 47us/step - loss: 2953241.2426 - val_loss: 2853267.3945\n",
      "Epoch 88/100\n",
      "4614/4614 [==============================] - 0s 46us/step - loss: 2953139.1258 - val_loss: 2852795.8712\n",
      "Epoch 89/100\n",
      "4614/4614 [==============================] - 0s 46us/step - loss: 2953056.1681 - val_loss: 2852467.7178\n",
      "Epoch 90/100\n",
      "4614/4614 [==============================] - 0s 46us/step - loss: 2953002.7129 - val_loss: 2852361.8270\n",
      "Epoch 91/100\n",
      "4614/4614 [==============================] - 0s 46us/step - loss: 2952884.9811 - val_loss: 2851867.4644\n",
      "Epoch 92/100\n",
      "4614/4614 [==============================] - 0s 45us/step - loss: 2952820.2750 - val_loss: 2851592.1994\n",
      "Epoch 93/100\n",
      "4614/4614 [==============================] - 0s 45us/step - loss: 2952762.9779 - val_loss: 2851322.0877\n",
      "Epoch 94/100\n",
      "4614/4614 [==============================] - 0s 46us/step - loss: 2952726.8621 - val_loss: 2851130.3466\n",
      "Epoch 95/100\n",
      "4614/4614 [==============================] - 0s 47us/step - loss: 2952661.6685 - val_loss: 2850872.8258\n",
      "Epoch 96/100\n",
      "4614/4614 [==============================] - 0s 47us/step - loss: 2952627.1425 - val_loss: 2850716.4951\n",
      "Epoch 97/100\n",
      "4614/4614 [==============================] - 0s 46us/step - loss: 2952595.8902 - val_loss: 2850503.9282\n",
      "Epoch 98/100\n",
      "4614/4614 [==============================] - 0s 46us/step - loss: 2952544.9133 - val_loss: 2850304.1834\n",
      "Epoch 99/100\n",
      "4614/4614 [==============================] - 0s 47us/step - loss: 2952527.9256 - val_loss: 2850175.6748\n",
      "Epoch 100/100\n",
      "4614/4614 [==============================] - 0s 47us/step - loss: 2952489.1555 - val_loss: 2849991.0411\n"
     ]
    },
    {
     "data": {
      "text/plain": [
       "<keras.callbacks.callbacks.History at 0x212cfb06b00>"
      ]
     },
     "execution_count": 118,
     "metadata": {},
     "output_type": "execute_result"
    }
   ],
   "source": [
    "dnn.fit(val_X_train[cols].values,\n",
    "        val_y_train.values,\n",
    "        epochs=100,\n",
    "#         batch_size=200,\n",
    "        validation_data=(val_X_test[cols], val_y_test.values),\n",
    "        callbacks = [es_callback]\n",
    "       )"
   ]
  },
  {
   "cell_type": "code",
   "execution_count": 119,
   "metadata": {},
   "outputs": [
    {
     "data": {
      "text/plain": [
       "<AxesSubplot:>"
      ]
     },
     "execution_count": 119,
     "metadata": {},
     "output_type": "execute_result"
    },
    {
     "data": {
      "image/png": "[encoded data removed]",
      "text/plain": [
       "<Figure size 864x576 with 1 Axes>"
      ]
     },
     "metadata": {
      "needs_background": "light"
     },
     "output_type": "display_data"
    }
   ],
   "source": [
    "pd.DataFrame(dnn.history.history).plot(figsize=(12,8))"
   ]
  },
  {
   "cell_type": "code",
   "execution_count": 120,
   "metadata": {},
   "outputs": [],
   "source": [
    "dnn_pred = dnn.predict(val_X_test[cols])"
   ]
  },
  {
   "cell_type": "code",
   "execution_count": 121,
   "metadata": {},
   "outputs": [
    {
     "data": {
      "text/plain": [
       "2.3707808504093495"
      ]
     },
     "execution_count": 121,
     "metadata": {},
     "output_type": "execute_result"
    }
   ],
   "source": [
    "from sklearn.metrics import mean_squared_log_error, mean_absolute_error\n",
    "np.sqrt(mean_squared_log_error(dnn_pred, val_y_test))"
   ]
  },
  {
   "cell_type": "code",
   "execution_count": 122,
   "metadata": {},
   "outputs": [
    {
     "data": {
      "text/plain": [
       "2.3237570906459712"
      ]
     },
     "execution_count": 122,
     "metadata": {},
     "output_type": "execute_result"
    }
   ],
   "source": [
    "np.sqrt(mean_squared_log_error(dnn.predict(val_X_train[cols]), val_y_train))"
   ]
  },
  {
   "cell_type": "code",
   "execution_count": 92,
   "metadata": {},
   "outputs": [],
   "source": [
    "def save_submission(estimator, name):\n",
    "    pred = estimator.predict(test[cols])\n",
    "    sub = pd.read_csv('../Data/Sample Submission.csv')\n",
    "    sub[\"time_spent\"]=abs(pred)\n",
    "    sub.to_csv('../Submissions/'+name+'.csv', index=False)\n",
    "    estimator.save('../Models/'+name)"
   ]
  },
  {
   "cell_type": "code",
   "execution_count": 93,
   "metadata": {},
   "outputs": [],
   "source": [
    "# X_test = test.drop(['date'], axis=1)\n",
    "save_submission(dnn, 'DNN+XGB+RFR_V5_1.5028870464053532')"
   ]
  },
  {
   "cell_type": "code",
   "execution_count": null,
   "metadata": {},
   "outputs": [],
   "source": []
  }
 ],
 "metadata": {
  "kernelspec": {
   "display_name": "Python 3",
   "language": "python",
   "name": "python3"
  },
  "language_info": {
   "codemirror_mode": {
    "name": "ipython",
    "version": 3
   },
   "file_extension": ".py",
   "mimetype": "text/x-python",
   "name": "python",
   "nbconvert_exporter": "python",
   "pygments_lexer": "ipython3",
   "version": "3.6.12"
  }
 },
 "nbformat": 4,
 "nbformat_minor": 4
}

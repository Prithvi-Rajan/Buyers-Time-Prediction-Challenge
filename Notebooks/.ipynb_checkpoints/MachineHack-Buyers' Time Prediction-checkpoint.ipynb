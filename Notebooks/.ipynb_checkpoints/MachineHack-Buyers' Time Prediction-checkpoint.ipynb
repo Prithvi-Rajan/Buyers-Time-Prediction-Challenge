{
 "cells": [
  {
   "cell_type": "code",
   "execution_count": 1,
   "metadata": {},
   "outputs": [],
   "source": [
    "import pandas as pd\n",
    "import numpy as np\n",
    "import matplotlib.pyplot as plt\n",
    "import seaborn as sns\n",
    "%matplotlib inline"
   ]
  },
  {
   "cell_type": "code",
   "execution_count": 2,
   "metadata": {},
   "outputs": [],
   "source": [
    "train = pd.read_csv('../Data/Train.csv')\n",
    "test = pd.read_csv('../Data/Test.csv')"
   ]
  },
  {
   "cell_type": "code",
   "execution_count": 3,
   "metadata": {},
   "outputs": [],
   "source": [
    "# train.head()"
   ]
  },
  {
   "cell_type": "code",
   "execution_count": 4,
   "metadata": {},
   "outputs": [],
   "source": [
    "# train.info()"
   ]
  },
  {
   "cell_type": "code",
   "execution_count": 5,
   "metadata": {},
   "outputs": [],
   "source": [
    "# train.describe()"
   ]
  },
  {
   "cell_type": "code",
   "execution_count": 6,
   "metadata": {},
   "outputs": [],
   "source": [
    "# train['session_id'].nunique()"
   ]
  },
  {
   "cell_type": "code",
   "execution_count": 7,
   "metadata": {},
   "outputs": [],
   "source": [
    "# train['session_number'].nunique()"
   ]
  },
  {
   "cell_type": "code",
   "execution_count": 8,
   "metadata": {},
   "outputs": [],
   "source": [
    "# train[['client_agent', 'device_details']].head(10)"
   ]
  },
  {
   "cell_type": "code",
   "execution_count": 9,
   "metadata": {},
   "outputs": [],
   "source": [
    "# train[train['device_details']=='iPhone - iOS'][['client_agent', 'device_details']].head(10)"
   ]
  },
  {
   "cell_type": "code",
   "execution_count": 10,
   "metadata": {},
   "outputs": [],
   "source": [
    "# train[train['device_details']=='Android Phone - Android'][['client_agent', 'device_details']].head(10)"
   ]
  },
  {
   "cell_type": "code",
   "execution_count": 11,
   "metadata": {},
   "outputs": [],
   "source": [
    "# train['device_details'].apply(lambda x : x.split(' - ')[0]).unique()\n",
    "# 7"
   ]
  },
  {
   "cell_type": "code",
   "execution_count": 12,
   "metadata": {},
   "outputs": [],
   "source": [
    "# train['device_details'].apply(lambda x : x.split(' - ')[1]).unique()\n",
    "# 9"
   ]
  },
  {
   "cell_type": "code",
   "execution_count": 13,
   "metadata": {},
   "outputs": [],
   "source": [
    "# train['client_agent'][90]"
   ]
  },
  {
   "cell_type": "code",
   "execution_count": 14,
   "metadata": {},
   "outputs": [],
   "source": [
    "sns.set_style('darkgrid')\n",
    "# sns.pairplot(train)"
   ]
  },
  {
   "cell_type": "code",
   "execution_count": 15,
   "metadata": {},
   "outputs": [],
   "source": [
    "# sns.scatterplot(train['time_spent'], train['added_in_cart'], hue= train['purchased'])"
   ]
  },
  {
   "cell_type": "code",
   "execution_count": 16,
   "metadata": {},
   "outputs": [],
   "source": [
    "# sns.histplot(data=train[train['time_spent']<4000], x= 'time_spent', hue='purchased')"
   ]
  },
  {
   "cell_type": "code",
   "execution_count": 17,
   "metadata": {},
   "outputs": [],
   "source": [
    "# sns.heatmap(train.corr(), annot=True, cmap='coolwarm')"
   ]
  },
  {
   "cell_type": "code",
   "execution_count": 18,
   "metadata": {},
   "outputs": [
    {
     "data": {
      "text/plain": [
       "session_number    0.078437\n",
       "checked_out       0.157765\n",
       "purchased         0.200762\n",
       "added_in_cart     0.209807\n",
       "time_spent        1.000000\n",
       "Name: time_spent, dtype: float64"
      ]
     },
     "execution_count": 18,
     "metadata": {},
     "output_type": "execute_result"
    }
   ],
   "source": [
    "train.corr()['time_spent'].sort_values()"
   ]
  },
  {
   "cell_type": "code",
   "execution_count": 19,
   "metadata": {},
   "outputs": [],
   "source": [
    "train['date'] = train['date'].apply(lambda x : pd.to_datetime(x))"
   ]
  },
  {
   "cell_type": "code",
   "execution_count": 20,
   "metadata": {},
   "outputs": [],
   "source": [
    "train.drop('session_id', inplace= True, axis=1)"
   ]
  },
  {
   "cell_type": "code",
   "execution_count": 21,
   "metadata": {},
   "outputs": [],
   "source": [
    "train.drop('client_agent', inplace= True, axis=1)"
   ]
  },
  {
   "cell_type": "code",
   "execution_count": 22,
   "metadata": {},
   "outputs": [],
   "source": [
    "train['device'] = train['device_details'].apply(lambda x : x.split(' - ')[0])"
   ]
  },
  {
   "cell_type": "code",
   "execution_count": 23,
   "metadata": {},
   "outputs": [],
   "source": [
    "train['product'] = train['device_details'].apply(lambda x : x.split(' - ')[1])"
   ]
  },
  {
   "cell_type": "code",
   "execution_count": 24,
   "metadata": {},
   "outputs": [],
   "source": [
    "train['day_of_week'] = train['date'].apply(lambda x : x.day_name())"
   ]
  },
  {
   "cell_type": "code",
   "execution_count": 25,
   "metadata": {},
   "outputs": [],
   "source": [
    "train['month'] = train['date'].apply(lambda x : x.month_name())"
   ]
  },
  {
   "cell_type": "code",
   "execution_count": 26,
   "metadata": {},
   "outputs": [],
   "source": [
    "train['year']=train['date'].apply(lambda x : x.year)"
   ]
  },
  {
   "cell_type": "code",
   "execution_count": 27,
   "metadata": {},
   "outputs": [],
   "source": [
    "train.drop('device_details', inplace=True, axis=1)"
   ]
  },
  {
   "cell_type": "code",
   "execution_count": 28,
   "metadata": {},
   "outputs": [],
   "source": [
    "# train.head()"
   ]
  },
  {
   "cell_type": "code",
   "execution_count": 29,
   "metadata": {},
   "outputs": [],
   "source": [
    "dev_dummies = pd.get_dummies(train['device'], drop_first=True)"
   ]
  },
  {
   "cell_type": "code",
   "execution_count": 30,
   "metadata": {},
   "outputs": [],
   "source": [
    "# dev_dummies.head()"
   ]
  },
  {
   "cell_type": "code",
   "execution_count": 31,
   "metadata": {},
   "outputs": [],
   "source": [
    "train = train.join(dev_dummies)"
   ]
  },
  {
   "cell_type": "code",
   "execution_count": 32,
   "metadata": {},
   "outputs": [],
   "source": [
    "train.drop('device', inplace=True, axis=1)"
   ]
  },
  {
   "cell_type": "code",
   "execution_count": 33,
   "metadata": {},
   "outputs": [
    {
     "data": {
      "text/plain": [
       "array(['Chrome', 'iOS', 'MobileWeb', 'IE', 'Web', 'Android', 'Firefox',\n",
       "       'Other', 'Safari'], dtype=object)"
      ]
     },
     "execution_count": 33,
     "metadata": {},
     "output_type": "execute_result"
    }
   ],
   "source": [
    "train['product'].unique()"
   ]
  },
  {
   "cell_type": "code",
   "execution_count": 34,
   "metadata": {},
   "outputs": [],
   "source": [
    "train['app'] = train['product'].apply(lambda x : 1 if (x == 'Android' or x == 'iOS') else 0)"
   ]
  },
  {
   "cell_type": "code",
   "execution_count": 35,
   "metadata": {},
   "outputs": [],
   "source": [
    "month_dummies = pd.get_dummies(data=train['month'], drop_first=True)\n",
    "# month_dummies.head()"
   ]
  },
  {
   "cell_type": "code",
   "execution_count": 36,
   "metadata": {},
   "outputs": [],
   "source": [
    "train = train.drop('month', axis = 1).join(month_dummies)"
   ]
  },
  {
   "cell_type": "code",
   "execution_count": 37,
   "metadata": {},
   "outputs": [],
   "source": [
    "dow_dummies = pd.get_dummies(data=train['day_of_week'], drop_first=True)\n",
    "train = train.drop('day_of_week', axis = 1).join(dow_dummies)"
   ]
  },
  {
   "cell_type": "code",
   "execution_count": 38,
   "metadata": {},
   "outputs": [],
   "source": [
    "train = train.drop('product', axis=1)"
   ]
  },
  {
   "cell_type": "code",
   "execution_count": 39,
   "metadata": {},
   "outputs": [],
   "source": [
    "train['2020'] = train['year'].apply(lambda x : 1 if x == 2020 else 0)"
   ]
  },
  {
   "cell_type": "code",
   "execution_count": 40,
   "metadata": {},
   "outputs": [],
   "source": [
    "train.drop('year', axis=1, inplace=True)"
   ]
  },
  {
   "cell_type": "code",
   "execution_count": 41,
   "metadata": {},
   "outputs": [],
   "source": [
    "# train.head()"
   ]
  },
  {
   "cell_type": "code",
   "execution_count": 42,
   "metadata": {},
   "outputs": [],
   "source": [
    "X_train = train.drop(['time_spent', 'date'], axis=1)"
   ]
  },
  {
   "cell_type": "code",
   "execution_count": 43,
   "metadata": {},
   "outputs": [],
   "source": [
    "y_train = train['time_spent']"
   ]
  },
  {
   "cell_type": "code",
   "execution_count": 44,
   "metadata": {},
   "outputs": [],
   "source": [
    "# from sklearn.linear_model import LinearRegression"
   ]
  },
  {
   "cell_type": "code",
   "execution_count": 45,
   "metadata": {},
   "outputs": [],
   "source": [
    "# lr_model = LinearRegression()"
   ]
  },
  {
   "cell_type": "code",
   "execution_count": 46,
   "metadata": {},
   "outputs": [],
   "source": [
    "# lr_model.fit(X_train, y_train)"
   ]
  },
  {
   "cell_type": "code",
   "execution_count": 47,
   "metadata": {},
   "outputs": [],
   "source": [
    "test = pd.read_csv('Test.csv')\n",
    "test['date'] = test['date'].apply(lambda x : pd.to_datetime(x))"
   ]
  },
  {
   "cell_type": "code",
   "execution_count": 48,
   "metadata": {},
   "outputs": [],
   "source": [
    "test.drop(['session_id', 'client_agent'], inplace= True, axis=1)"
   ]
  },
  {
   "cell_type": "code",
   "execution_count": 49,
   "metadata": {},
   "outputs": [],
   "source": [
    "test['device'] = test['device_details'].apply(lambda x : x.split(' - ')[0])\n",
    "test['product'] = test['device_details'].apply(lambda x : x.split(' - ')[1])"
   ]
  },
  {
   "cell_type": "code",
   "execution_count": 50,
   "metadata": {},
   "outputs": [],
   "source": [
    "test['day_of_week'] = test['date'].apply(lambda x : x.day_name())\n",
    "test['month'] = test['date'].apply(lambda x : x.month_name())\n",
    "test['year']=test['date'].apply(lambda x : x.year)\n",
    "test.drop('device_details', inplace=True, axis=1)"
   ]
  },
  {
   "cell_type": "code",
   "execution_count": 51,
   "metadata": {},
   "outputs": [],
   "source": [
    "test_dev_dummies = pd.get_dummies(test['device'], drop_first=True)"
   ]
  },
  {
   "cell_type": "code",
   "execution_count": 52,
   "metadata": {},
   "outputs": [],
   "source": [
    "test = test.join(test_dev_dummies)\n",
    "test.drop('device', inplace=True, axis=1)"
   ]
  },
  {
   "cell_type": "code",
   "execution_count": 53,
   "metadata": {},
   "outputs": [],
   "source": [
    "test['app'] = test['product'].apply(lambda x : 1 if (x == 'Android' or x == 'iOS') else 0)\n",
    "test_month_dummies = pd.get_dummies(data=test['month'], drop_first=True)\n",
    "test = test.drop('month', axis = 1).join(test_month_dummies)"
   ]
  },
  {
   "cell_type": "code",
   "execution_count": 54,
   "metadata": {},
   "outputs": [],
   "source": [
    "test_dow_dummies = pd.get_dummies(data=test['day_of_week'], drop_first=True)\n",
    "test = test.drop('day_of_week', axis = 1).join(dow_dummies)\n",
    "test = test.drop('product', axis=1)\n",
    "test['2020'] = test['year'].apply(lambda x : 1 if x == 2020 else 0)\n",
    "test.drop('year', axis=1, inplace=True)"
   ]
  },
  {
   "cell_type": "code",
   "execution_count": 55,
   "metadata": {},
   "outputs": [],
   "source": [
    "# test.head()"
   ]
  },
  {
   "cell_type": "code",
   "execution_count": 56,
   "metadata": {},
   "outputs": [],
   "source": [
    "X_test = test.drop(['date'], axis=1)\n",
    "# y_test = test['time_spent']"
   ]
  },
  {
   "cell_type": "code",
   "execution_count": 57,
   "metadata": {},
   "outputs": [],
   "source": [
    "# lr_model.predict(X_test)"
   ]
  },
  {
   "cell_type": "code",
   "execution_count": 58,
   "metadata": {},
   "outputs": [
    {
     "data": {
      "text/plain": [
       "Index(['session_number', 'date', 'purchased', 'added_in_cart', 'checked_out',\n",
       "       'Android Tablet', 'Desktop', 'Other', 'Unknown', 'iPad', 'iPhone',\n",
       "       'app', 'August', 'December', 'February', 'January', 'July', 'June',\n",
       "       'March', 'May', 'November', 'October', 'September', 'Monday',\n",
       "       'Saturday', 'Sunday', 'Thursday', 'Tuesday', 'Wednesday', '2020'],\n",
       "      dtype='object')"
      ]
     },
     "execution_count": 58,
     "metadata": {},
     "output_type": "execute_result"
    }
   ],
   "source": [
    "test.columns"
   ]
  },
  {
   "cell_type": "code",
   "execution_count": 59,
   "metadata": {},
   "outputs": [],
   "source": [
    "from sklearn.model_selection import train_test_split\n",
    "val_X_train, val_X_test, val_y_train, val_y_test = train_test_split(X_train, y_train, test_size=0.3)"
   ]
  },
  {
   "cell_type": "code",
   "execution_count": 61,
   "metadata": {},
   "outputs": [],
   "source": [
    "# val_pred = lr_model.predict(val_X_test)"
   ]
  },
  {
   "cell_type": "code",
   "execution_count": 62,
   "metadata": {},
   "outputs": [],
   "source": [
    "from sklearn.metrics import mean_squared_log_error, mean_absolute_error"
   ]
  },
  {
   "cell_type": "code",
   "execution_count": 63,
   "metadata": {},
   "outputs": [],
   "source": [
    "# mean_absolute_error(val_pred, val_y_test)"
   ]
  },
  {
   "cell_type": "code",
   "execution_count": 64,
   "metadata": {},
   "outputs": [],
   "source": [
    "cols = ['session_number','purchased','added_in_cart','checked_out']"
   ]
  },
  {
   "cell_type": "code",
   "execution_count": 65,
   "metadata": {},
   "outputs": [],
   "source": [
    "# from keras.layers import Dense, Dropout\n",
    "# from keras.models import Sequential"
   ]
  },
  {
   "cell_type": "code",
   "execution_count": 66,
   "metadata": {},
   "outputs": [],
   "source": [
    "# dnn = Sequential()\n",
    "\n",
    "# dnn.add(Dense(56,activation='relu'))\n",
    "# dnn.add(Dense(28,activation='relu'))\n",
    "# dnn.add(Dense(14,activation='relu'))\n",
    "# dnn.add(Dense(7,activation='relu'))\n",
    "# dnn.add(Dense(1,activation='relu'))\n",
    "\n",
    "# dnn.compile(optimizer='adam', loss='mse', metrics=['accuracy'])"
   ]
  },
  {
   "cell_type": "code",
   "execution_count": 67,
   "metadata": {},
   "outputs": [],
   "source": [
    "# dnn.fit(val_X_train[cols].values,\n",
    "#         val_y_train.values,\n",
    "#         epochs=500,\n",
    "# #         batch_size=250,\n",
    "#         validation_data=(val_X_test[cols].values, val_y_test.values)\n",
    "#        )"
   ]
  },
  {
   "cell_type": "code",
   "execution_count": 68,
   "metadata": {
    "scrolled": true
   },
   "outputs": [],
   "source": [
    "# pd.DataFrame(dnn.history.history).plot()"
   ]
  },
  {
   "cell_type": "code",
   "execution_count": 69,
   "metadata": {},
   "outputs": [],
   "source": [
    "import xgboost as xgb"
   ]
  },
  {
   "cell_type": "code",
   "execution_count": 72,
   "metadata": {},
   "outputs": [],
   "source": [
    "xgr = xgb.XGBRegressor(booster='gbtree',n_estimators=100)\n",
    "# xgr.fit(X=val_X_train[cols],y=val_y_train,eval_set=[(val_X_test[cols],val_y_test)],eval_metric=\"rmse\",verbose=2)\n",
    "# ans = abs(xgr.predict(val_X_test[cols]))\n",
    "# score = np.sqrt(mean_squared_log_error(val_y_test, ans))\n",
    "# score"
   ]
  },
  {
   "cell_type": "code",
   "execution_count": 73,
   "metadata": {},
   "outputs": [],
   "source": [
    "xgr.fit(X_train[cols], y_train,verbose=2)\n",
    "pred = xgr.predict(X_test[cols])"
   ]
  },
  {
   "cell_type": "code",
   "execution_count": 74,
   "metadata": {},
   "outputs": [],
   "source": [
    "sub = pd.read_csv('Sample Submission.csv')\n",
    "sub[\"time_spent\"]=abs(pred)"
   ]
  },
  {
   "cell_type": "code",
   "execution_count": 75,
   "metadata": {},
   "outputs": [],
   "source": [
    "# sub.to_csv('Submission_1.csv', index=False)"
   ]
  },
  {
   "cell_type": "code",
   "execution_count": 76,
   "metadata": {},
   "outputs": [],
   "source": [
    "from sklearn.model_selection import GridSearchCV"
   ]
  },
  {
   "cell_type": "code",
   "execution_count": 77,
   "metadata": {},
   "outputs": [],
   "source": [
    "xgb_est = xgb.XGBRegressor()\n",
    "param_grid = {'n_estimators': [20, 25, 30, 35, 40], \n",
    "              'learning_rate': [1, 0.2, 0.05, 0.3, 0.1,0.01,0.5],\n",
    "              'booster' : ['gbtree']\n",
    "             } \n",
    "grid = GridSearchCV(estimator=xgb_est, param_grid= param_grid, verbose=2)"
   ]
  },
  {
   "cell_type": "code",
   "execution_count": 78,
   "metadata": {},
   "outputs": [
    {
     "name": "stdout",
     "output_type": "stream",
     "text": [
      "Fitting 5 folds for each of 35 candidates, totalling 175 fits\n",
      "[CV] booster=gbtree, learning_rate=1, n_estimators=20 ................\n",
      "[CV] . booster=gbtree, learning_rate=1, n_estimators=20, total=   0.1s\n",
      "[CV] booster=gbtree, learning_rate=1, n_estimators=20 ................\n",
      "[CV] . booster=gbtree, learning_rate=1, n_estimators=20, total=   0.1s\n",
      "[CV] booster=gbtree, learning_rate=1, n_estimators=20 ................\n"
     ]
    },
    {
     "name": "stderr",
     "output_type": "stream",
     "text": [
      "[Parallel(n_jobs=1)]: Using backend SequentialBackend with 1 concurrent workers.\n",
      "[Parallel(n_jobs=1)]: Done   1 out of   1 | elapsed:    0.0s remaining:    0.0s\n"
     ]
    },
    {
     "name": "stdout",
     "output_type": "stream",
     "text": [
      "[CV] . booster=gbtree, learning_rate=1, n_estimators=20, total=   0.1s\n",
      "[CV] booster=gbtree, learning_rate=1, n_estimators=20 ................\n",
      "[CV] . booster=gbtree, learning_rate=1, n_estimators=20, total=   0.1s\n",
      "[CV] booster=gbtree, learning_rate=1, n_estimators=20 ................\n",
      "[CV] . booster=gbtree, learning_rate=1, n_estimators=20, total=   0.1s\n",
      "[CV] booster=gbtree, learning_rate=1, n_estimators=25 ................\n",
      "[CV] . booster=gbtree, learning_rate=1, n_estimators=25, total=   0.1s\n",
      "[CV] booster=gbtree, learning_rate=1, n_estimators=25 ................\n",
      "[CV] . booster=gbtree, learning_rate=1, n_estimators=25, total=   0.1s\n",
      "[CV] booster=gbtree, learning_rate=1, n_estimators=25 ................\n",
      "[CV] . booster=gbtree, learning_rate=1, n_estimators=25, total=   0.1s\n",
      "[CV] booster=gbtree, learning_rate=1, n_estimators=25 ................\n",
      "[CV] . booster=gbtree, learning_rate=1, n_estimators=25, total=   0.1s\n",
      "[CV] booster=gbtree, learning_rate=1, n_estimators=25 ................\n",
      "[CV] . booster=gbtree, learning_rate=1, n_estimators=25, total=   0.1s\n",
      "[CV] booster=gbtree, learning_rate=1, n_estimators=30 ................\n",
      "[CV] . booster=gbtree, learning_rate=1, n_estimators=30, total=   0.1s\n",
      "[CV] booster=gbtree, learning_rate=1, n_estimators=30 ................\n",
      "[CV] . booster=gbtree, learning_rate=1, n_estimators=30, total=   0.1s\n",
      "[CV] booster=gbtree, learning_rate=1, n_estimators=30 ................\n",
      "[CV] . booster=gbtree, learning_rate=1, n_estimators=30, total=   0.1s\n",
      "[CV] booster=gbtree, learning_rate=1, n_estimators=30 ................\n",
      "[CV] . booster=gbtree, learning_rate=1, n_estimators=30, total=   0.1s\n",
      "[CV] booster=gbtree, learning_rate=1, n_estimators=30 ................\n",
      "[CV] . booster=gbtree, learning_rate=1, n_estimators=30, total=   0.1s\n",
      "[CV] booster=gbtree, learning_rate=1, n_estimators=35 ................\n",
      "[CV] . booster=gbtree, learning_rate=1, n_estimators=35, total=   0.1s\n",
      "[CV] booster=gbtree, learning_rate=1, n_estimators=35 ................\n",
      "[CV] . booster=gbtree, learning_rate=1, n_estimators=35, total=   0.1s\n",
      "[CV] booster=gbtree, learning_rate=1, n_estimators=35 ................\n",
      "[CV] . booster=gbtree, learning_rate=1, n_estimators=35, total=   0.1s\n",
      "[CV] booster=gbtree, learning_rate=1, n_estimators=35 ................\n",
      "[CV] . booster=gbtree, learning_rate=1, n_estimators=35, total=   0.1s\n",
      "[CV] booster=gbtree, learning_rate=1, n_estimators=35 ................\n",
      "[CV] . booster=gbtree, learning_rate=1, n_estimators=35, total=   0.1s\n",
      "[CV] booster=gbtree, learning_rate=1, n_estimators=40 ................\n",
      "[CV] . booster=gbtree, learning_rate=1, n_estimators=40, total=   0.1s\n",
      "[CV] booster=gbtree, learning_rate=1, n_estimators=40 ................\n",
      "[CV] . booster=gbtree, learning_rate=1, n_estimators=40, total=   0.1s\n",
      "[CV] booster=gbtree, learning_rate=1, n_estimators=40 ................\n",
      "[CV] . booster=gbtree, learning_rate=1, n_estimators=40, total=   0.1s\n",
      "[CV] booster=gbtree, learning_rate=1, n_estimators=40 ................\n",
      "[CV] . booster=gbtree, learning_rate=1, n_estimators=40, total=   0.1s\n",
      "[CV] booster=gbtree, learning_rate=1, n_estimators=40 ................\n",
      "[CV] . booster=gbtree, learning_rate=1, n_estimators=40, total=   0.1s\n",
      "[CV] booster=gbtree, learning_rate=0.2, n_estimators=20 ..............\n",
      "[CV]  booster=gbtree, learning_rate=0.2, n_estimators=20, total=   0.1s\n",
      "[CV] booster=gbtree, learning_rate=0.2, n_estimators=20 ..............\n",
      "[CV]  booster=gbtree, learning_rate=0.2, n_estimators=20, total=   0.1s\n",
      "[CV] booster=gbtree, learning_rate=0.2, n_estimators=20 ..............\n",
      "[CV]  booster=gbtree, learning_rate=0.2, n_estimators=20, total=   0.1s\n",
      "[CV] booster=gbtree, learning_rate=0.2, n_estimators=20 ..............\n",
      "[CV]  booster=gbtree, learning_rate=0.2, n_estimators=20, total=   0.1s\n",
      "[CV] booster=gbtree, learning_rate=0.2, n_estimators=20 ..............\n",
      "[CV]  booster=gbtree, learning_rate=0.2, n_estimators=20, total=   0.1s\n",
      "[CV] booster=gbtree, learning_rate=0.2, n_estimators=25 ..............\n",
      "[CV]  booster=gbtree, learning_rate=0.2, n_estimators=25, total=   0.1s\n",
      "[CV] booster=gbtree, learning_rate=0.2, n_estimators=25 ..............\n",
      "[CV]  booster=gbtree, learning_rate=0.2, n_estimators=25, total=   0.1s\n",
      "[CV] booster=gbtree, learning_rate=0.2, n_estimators=25 ..............\n",
      "[CV]  booster=gbtree, learning_rate=0.2, n_estimators=25, total=   0.1s\n",
      "[CV] booster=gbtree, learning_rate=0.2, n_estimators=25 ..............\n",
      "[CV]  booster=gbtree, learning_rate=0.2, n_estimators=25, total=   0.1s\n",
      "[CV] booster=gbtree, learning_rate=0.2, n_estimators=25 ..............\n",
      "[CV]  booster=gbtree, learning_rate=0.2, n_estimators=25, total=   0.1s\n",
      "[CV] booster=gbtree, learning_rate=0.2, n_estimators=30 ..............\n",
      "[CV]  booster=gbtree, learning_rate=0.2, n_estimators=30, total=   0.1s\n",
      "[CV] booster=gbtree, learning_rate=0.2, n_estimators=30 ..............\n",
      "[CV]  booster=gbtree, learning_rate=0.2, n_estimators=30, total=   0.1s\n",
      "[CV] booster=gbtree, learning_rate=0.2, n_estimators=30 ..............\n",
      "[CV]  booster=gbtree, learning_rate=0.2, n_estimators=30, total=   0.1s\n",
      "[CV] booster=gbtree, learning_rate=0.2, n_estimators=30 ..............\n",
      "[CV]  booster=gbtree, learning_rate=0.2, n_estimators=30, total=   0.1s\n",
      "[CV] booster=gbtree, learning_rate=0.2, n_estimators=30 ..............\n",
      "[CV]  booster=gbtree, learning_rate=0.2, n_estimators=30, total=   0.1s\n",
      "[CV] booster=gbtree, learning_rate=0.2, n_estimators=35 ..............\n",
      "[CV]  booster=gbtree, learning_rate=0.2, n_estimators=35, total=   0.1s\n",
      "[CV] booster=gbtree, learning_rate=0.2, n_estimators=35 ..............\n",
      "[CV]  booster=gbtree, learning_rate=0.2, n_estimators=35, total=   0.1s\n",
      "[CV] booster=gbtree, learning_rate=0.2, n_estimators=35 ..............\n",
      "[CV]  booster=gbtree, learning_rate=0.2, n_estimators=35, total=   0.1s\n",
      "[CV] booster=gbtree, learning_rate=0.2, n_estimators=35 ..............\n",
      "[CV]  booster=gbtree, learning_rate=0.2, n_estimators=35, total=   0.1s\n",
      "[CV] booster=gbtree, learning_rate=0.2, n_estimators=35 ..............\n",
      "[CV]  booster=gbtree, learning_rate=0.2, n_estimators=35, total=   0.1s\n",
      "[CV] booster=gbtree, learning_rate=0.2, n_estimators=40 ..............\n",
      "[CV]  booster=gbtree, learning_rate=0.2, n_estimators=40, total=   0.1s\n",
      "[CV] booster=gbtree, learning_rate=0.2, n_estimators=40 ..............\n",
      "[CV]  booster=gbtree, learning_rate=0.2, n_estimators=40, total=   0.1s\n",
      "[CV] booster=gbtree, learning_rate=0.2, n_estimators=40 ..............\n",
      "[CV]  booster=gbtree, learning_rate=0.2, n_estimators=40, total=   0.1s\n",
      "[CV] booster=gbtree, learning_rate=0.2, n_estimators=40 ..............\n",
      "[CV]  booster=gbtree, learning_rate=0.2, n_estimators=40, total=   0.1s\n",
      "[CV] booster=gbtree, learning_rate=0.2, n_estimators=40 ..............\n",
      "[CV]  booster=gbtree, learning_rate=0.2, n_estimators=40, total=   0.1s\n",
      "[CV] booster=gbtree, learning_rate=0.05, n_estimators=20 .............\n",
      "[CV]  booster=gbtree, learning_rate=0.05, n_estimators=20, total=   0.1s\n",
      "[CV] booster=gbtree, learning_rate=0.05, n_estimators=20 .............\n",
      "[CV]  booster=gbtree, learning_rate=0.05, n_estimators=20, total=   0.1s\n",
      "[CV] booster=gbtree, learning_rate=0.05, n_estimators=20 .............\n",
      "[CV]  booster=gbtree, learning_rate=0.05, n_estimators=20, total=   0.1s\n",
      "[CV] booster=gbtree, learning_rate=0.05, n_estimators=20 .............\n",
      "[CV]  booster=gbtree, learning_rate=0.05, n_estimators=20, total=   0.1s\n",
      "[CV] booster=gbtree, learning_rate=0.05, n_estimators=20 .............\n",
      "[CV]  booster=gbtree, learning_rate=0.05, n_estimators=20, total=   0.1s\n",
      "[CV] booster=gbtree, learning_rate=0.05, n_estimators=25 .............\n",
      "[CV]  booster=gbtree, learning_rate=0.05, n_estimators=25, total=   0.1s\n",
      "[CV] booster=gbtree, learning_rate=0.05, n_estimators=25 .............\n",
      "[CV]  booster=gbtree, learning_rate=0.05, n_estimators=25, total=   0.1s\n",
      "[CV] booster=gbtree, learning_rate=0.05, n_estimators=25 .............\n",
      "[CV]  booster=gbtree, learning_rate=0.05, n_estimators=25, total=   0.1s\n",
      "[CV] booster=gbtree, learning_rate=0.05, n_estimators=25 .............\n",
      "[CV]  booster=gbtree, learning_rate=0.05, n_estimators=25, total=   0.1s\n",
      "[CV] booster=gbtree, learning_rate=0.05, n_estimators=25 .............\n",
      "[CV]  booster=gbtree, learning_rate=0.05, n_estimators=25, total=   0.1s\n",
      "[CV] booster=gbtree, learning_rate=0.05, n_estimators=30 .............\n"
     ]
    },
    {
     "name": "stdout",
     "output_type": "stream",
     "text": [
      "[CV]  booster=gbtree, learning_rate=0.05, n_estimators=30, total=   0.1s\n",
      "[CV] booster=gbtree, learning_rate=0.05, n_estimators=30 .............\n",
      "[CV]  booster=gbtree, learning_rate=0.05, n_estimators=30, total=   0.1s\n",
      "[CV] booster=gbtree, learning_rate=0.05, n_estimators=30 .............\n",
      "[CV]  booster=gbtree, learning_rate=0.05, n_estimators=30, total=   0.1s\n",
      "[CV] booster=gbtree, learning_rate=0.05, n_estimators=30 .............\n",
      "[CV]  booster=gbtree, learning_rate=0.05, n_estimators=30, total=   0.1s\n",
      "[CV] booster=gbtree, learning_rate=0.05, n_estimators=30 .............\n",
      "[CV]  booster=gbtree, learning_rate=0.05, n_estimators=30, total=   0.1s\n",
      "[CV] booster=gbtree, learning_rate=0.05, n_estimators=35 .............\n",
      "[CV]  booster=gbtree, learning_rate=0.05, n_estimators=35, total=   0.1s\n",
      "[CV] booster=gbtree, learning_rate=0.05, n_estimators=35 .............\n",
      "[CV]  booster=gbtree, learning_rate=0.05, n_estimators=35, total=   0.1s\n",
      "[CV] booster=gbtree, learning_rate=0.05, n_estimators=35 .............\n",
      "[CV]  booster=gbtree, learning_rate=0.05, n_estimators=35, total=   0.1s\n",
      "[CV] booster=gbtree, learning_rate=0.05, n_estimators=35 .............\n",
      "[CV]  booster=gbtree, learning_rate=0.05, n_estimators=35, total=   0.1s\n",
      "[CV] booster=gbtree, learning_rate=0.05, n_estimators=35 .............\n",
      "[CV]  booster=gbtree, learning_rate=0.05, n_estimators=35, total=   0.2s\n",
      "[CV] booster=gbtree, learning_rate=0.05, n_estimators=40 .............\n",
      "[CV]  booster=gbtree, learning_rate=0.05, n_estimators=40, total=   0.2s\n",
      "[CV] booster=gbtree, learning_rate=0.05, n_estimators=40 .............\n",
      "[CV]  booster=gbtree, learning_rate=0.05, n_estimators=40, total=   0.2s\n",
      "[CV] booster=gbtree, learning_rate=0.05, n_estimators=40 .............\n",
      "[CV]  booster=gbtree, learning_rate=0.05, n_estimators=40, total=   0.2s\n",
      "[CV] booster=gbtree, learning_rate=0.05, n_estimators=40 .............\n",
      "[CV]  booster=gbtree, learning_rate=0.05, n_estimators=40, total=   0.2s\n",
      "[CV] booster=gbtree, learning_rate=0.05, n_estimators=40 .............\n",
      "[CV]  booster=gbtree, learning_rate=0.05, n_estimators=40, total=   0.2s\n",
      "[CV] booster=gbtree, learning_rate=0.3, n_estimators=20 ..............\n",
      "[CV]  booster=gbtree, learning_rate=0.3, n_estimators=20, total=   0.1s\n",
      "[CV] booster=gbtree, learning_rate=0.3, n_estimators=20 ..............\n",
      "[CV]  booster=gbtree, learning_rate=0.3, n_estimators=20, total=   0.1s\n",
      "[CV] booster=gbtree, learning_rate=0.3, n_estimators=20 ..............\n",
      "[CV]  booster=gbtree, learning_rate=0.3, n_estimators=20, total=   0.1s\n",
      "[CV] booster=gbtree, learning_rate=0.3, n_estimators=20 ..............\n",
      "[CV]  booster=gbtree, learning_rate=0.3, n_estimators=20, total=   0.1s\n",
      "[CV] booster=gbtree, learning_rate=0.3, n_estimators=20 ..............\n",
      "[CV]  booster=gbtree, learning_rate=0.3, n_estimators=20, total=   0.1s\n",
      "[CV] booster=gbtree, learning_rate=0.3, n_estimators=25 ..............\n",
      "[CV]  booster=gbtree, learning_rate=0.3, n_estimators=25, total=   0.1s\n",
      "[CV] booster=gbtree, learning_rate=0.3, n_estimators=25 ..............\n",
      "[CV]  booster=gbtree, learning_rate=0.3, n_estimators=25, total=   0.1s\n",
      "[CV] booster=gbtree, learning_rate=0.3, n_estimators=25 ..............\n",
      "[CV]  booster=gbtree, learning_rate=0.3, n_estimators=25, total=   0.1s\n",
      "[CV] booster=gbtree, learning_rate=0.3, n_estimators=25 ..............\n",
      "[CV]  booster=gbtree, learning_rate=0.3, n_estimators=25, total=   0.1s\n",
      "[CV] booster=gbtree, learning_rate=0.3, n_estimators=25 ..............\n",
      "[CV]  booster=gbtree, learning_rate=0.3, n_estimators=25, total=   0.1s\n",
      "[CV] booster=gbtree, learning_rate=0.3, n_estimators=30 ..............\n",
      "[CV]  booster=gbtree, learning_rate=0.3, n_estimators=30, total=   0.1s\n",
      "[CV] booster=gbtree, learning_rate=0.3, n_estimators=30 ..............\n",
      "[CV]  booster=gbtree, learning_rate=0.3, n_estimators=30, total=   0.1s\n",
      "[CV] booster=gbtree, learning_rate=0.3, n_estimators=30 ..............\n",
      "[CV]  booster=gbtree, learning_rate=0.3, n_estimators=30, total=   0.1s\n",
      "[CV] booster=gbtree, learning_rate=0.3, n_estimators=30 ..............\n",
      "[CV]  booster=gbtree, learning_rate=0.3, n_estimators=30, total=   0.1s\n",
      "[CV] booster=gbtree, learning_rate=0.3, n_estimators=30 ..............\n",
      "[CV]  booster=gbtree, learning_rate=0.3, n_estimators=30, total=   0.1s\n",
      "[CV] booster=gbtree, learning_rate=0.3, n_estimators=35 ..............\n",
      "[CV]  booster=gbtree, learning_rate=0.3, n_estimators=35, total=   0.1s\n",
      "[CV] booster=gbtree, learning_rate=0.3, n_estimators=35 ..............\n",
      "[CV]  booster=gbtree, learning_rate=0.3, n_estimators=35, total=   0.1s\n",
      "[CV] booster=gbtree, learning_rate=0.3, n_estimators=35 ..............\n",
      "[CV]  booster=gbtree, learning_rate=0.3, n_estimators=35, total=   0.1s\n",
      "[CV] booster=gbtree, learning_rate=0.3, n_estimators=35 ..............\n",
      "[CV]  booster=gbtree, learning_rate=0.3, n_estimators=35, total=   0.1s\n",
      "[CV] booster=gbtree, learning_rate=0.3, n_estimators=35 ..............\n",
      "[CV]  booster=gbtree, learning_rate=0.3, n_estimators=35, total=   0.2s\n",
      "[CV] booster=gbtree, learning_rate=0.3, n_estimators=40 ..............\n",
      "[CV]  booster=gbtree, learning_rate=0.3, n_estimators=40, total=   0.1s\n",
      "[CV] booster=gbtree, learning_rate=0.3, n_estimators=40 ..............\n",
      "[CV]  booster=gbtree, learning_rate=0.3, n_estimators=40, total=   0.2s\n",
      "[CV] booster=gbtree, learning_rate=0.3, n_estimators=40 ..............\n",
      "[CV]  booster=gbtree, learning_rate=0.3, n_estimators=40, total=   0.2s\n",
      "[CV] booster=gbtree, learning_rate=0.3, n_estimators=40 ..............\n",
      "[CV]  booster=gbtree, learning_rate=0.3, n_estimators=40, total=   0.1s\n",
      "[CV] booster=gbtree, learning_rate=0.3, n_estimators=40 ..............\n",
      "[CV]  booster=gbtree, learning_rate=0.3, n_estimators=40, total=   0.1s\n",
      "[CV] booster=gbtree, learning_rate=0.1, n_estimators=20 ..............\n",
      "[CV]  booster=gbtree, learning_rate=0.1, n_estimators=20, total=   0.1s\n",
      "[CV] booster=gbtree, learning_rate=0.1, n_estimators=20 ..............\n",
      "[CV]  booster=gbtree, learning_rate=0.1, n_estimators=20, total=   0.1s\n",
      "[CV] booster=gbtree, learning_rate=0.1, n_estimators=20 ..............\n",
      "[CV]  booster=gbtree, learning_rate=0.1, n_estimators=20, total=   0.1s\n",
      "[CV] booster=gbtree, learning_rate=0.1, n_estimators=20 ..............\n",
      "[CV]  booster=gbtree, learning_rate=0.1, n_estimators=20, total=   0.1s\n",
      "[CV] booster=gbtree, learning_rate=0.1, n_estimators=20 ..............\n",
      "[CV]  booster=gbtree, learning_rate=0.1, n_estimators=20, total=   0.1s\n",
      "[CV] booster=gbtree, learning_rate=0.1, n_estimators=25 ..............\n",
      "[CV]  booster=gbtree, learning_rate=0.1, n_estimators=25, total=   0.1s\n",
      "[CV] booster=gbtree, learning_rate=0.1, n_estimators=25 ..............\n",
      "[CV]  booster=gbtree, learning_rate=0.1, n_estimators=25, total=   0.1s\n",
      "[CV] booster=gbtree, learning_rate=0.1, n_estimators=25 ..............\n",
      "[CV]  booster=gbtree, learning_rate=0.1, n_estimators=25, total=   0.1s\n",
      "[CV] booster=gbtree, learning_rate=0.1, n_estimators=25 ..............\n",
      "[CV]  booster=gbtree, learning_rate=0.1, n_estimators=25, total=   0.1s\n",
      "[CV] booster=gbtree, learning_rate=0.1, n_estimators=25 ..............\n",
      "[CV]  booster=gbtree, learning_rate=0.1, n_estimators=25, total=   0.1s\n",
      "[CV] booster=gbtree, learning_rate=0.1, n_estimators=30 ..............\n",
      "[CV]  booster=gbtree, learning_rate=0.1, n_estimators=30, total=   0.1s\n",
      "[CV] booster=gbtree, learning_rate=0.1, n_estimators=30 ..............\n",
      "[CV]  booster=gbtree, learning_rate=0.1, n_estimators=30, total=   0.1s\n",
      "[CV] booster=gbtree, learning_rate=0.1, n_estimators=30 ..............\n",
      "[CV]  booster=gbtree, learning_rate=0.1, n_estimators=30, total=   0.1s\n",
      "[CV] booster=gbtree, learning_rate=0.1, n_estimators=30 ..............\n",
      "[CV]  booster=gbtree, learning_rate=0.1, n_estimators=30, total=   0.1s\n",
      "[CV] booster=gbtree, learning_rate=0.1, n_estimators=30 ..............\n",
      "[CV]  booster=gbtree, learning_rate=0.1, n_estimators=30, total=   0.1s\n",
      "[CV] booster=gbtree, learning_rate=0.1, n_estimators=35 ..............\n",
      "[CV]  booster=gbtree, learning_rate=0.1, n_estimators=35, total=   0.1s\n",
      "[CV] booster=gbtree, learning_rate=0.1, n_estimators=35 ..............\n",
      "[CV]  booster=gbtree, learning_rate=0.1, n_estimators=35, total=   0.1s\n",
      "[CV] booster=gbtree, learning_rate=0.1, n_estimators=35 ..............\n",
      "[CV]  booster=gbtree, learning_rate=0.1, n_estimators=35, total=   0.1s\n",
      "[CV] booster=gbtree, learning_rate=0.1, n_estimators=35 ..............\n",
      "[CV]  booster=gbtree, learning_rate=0.1, n_estimators=35, total=   0.1s\n",
      "[CV] booster=gbtree, learning_rate=0.1, n_estimators=35 ..............\n"
     ]
    },
    {
     "name": "stdout",
     "output_type": "stream",
     "text": [
      "[CV]  booster=gbtree, learning_rate=0.1, n_estimators=35, total=   0.1s\n",
      "[CV] booster=gbtree, learning_rate=0.1, n_estimators=40 ..............\n",
      "[CV]  booster=gbtree, learning_rate=0.1, n_estimators=40, total=   0.2s\n",
      "[CV] booster=gbtree, learning_rate=0.1, n_estimators=40 ..............\n",
      "[CV]  booster=gbtree, learning_rate=0.1, n_estimators=40, total=   0.2s\n",
      "[CV] booster=gbtree, learning_rate=0.1, n_estimators=40 ..............\n",
      "[CV]  booster=gbtree, learning_rate=0.1, n_estimators=40, total=   0.2s\n",
      "[CV] booster=gbtree, learning_rate=0.1, n_estimators=40 ..............\n",
      "[CV]  booster=gbtree, learning_rate=0.1, n_estimators=40, total=   0.2s\n",
      "[CV] booster=gbtree, learning_rate=0.1, n_estimators=40 ..............\n",
      "[CV]  booster=gbtree, learning_rate=0.1, n_estimators=40, total=   0.2s\n",
      "[CV] booster=gbtree, learning_rate=0.01, n_estimators=20 .............\n",
      "[CV]  booster=gbtree, learning_rate=0.01, n_estimators=20, total=   0.1s\n",
      "[CV] booster=gbtree, learning_rate=0.01, n_estimators=20 .............\n",
      "[CV]  booster=gbtree, learning_rate=0.01, n_estimators=20, total=   0.1s\n",
      "[CV] booster=gbtree, learning_rate=0.01, n_estimators=20 .............\n",
      "[CV]  booster=gbtree, learning_rate=0.01, n_estimators=20, total=   0.1s\n",
      "[CV] booster=gbtree, learning_rate=0.01, n_estimators=20 .............\n",
      "[CV]  booster=gbtree, learning_rate=0.01, n_estimators=20, total=   0.1s\n",
      "[CV] booster=gbtree, learning_rate=0.01, n_estimators=20 .............\n",
      "[CV]  booster=gbtree, learning_rate=0.01, n_estimators=20, total=   0.1s\n",
      "[CV] booster=gbtree, learning_rate=0.01, n_estimators=25 .............\n",
      "[CV]  booster=gbtree, learning_rate=0.01, n_estimators=25, total=   0.1s\n",
      "[CV] booster=gbtree, learning_rate=0.01, n_estimators=25 .............\n",
      "[CV]  booster=gbtree, learning_rate=0.01, n_estimators=25, total=   0.1s\n",
      "[CV] booster=gbtree, learning_rate=0.01, n_estimators=25 .............\n",
      "[CV]  booster=gbtree, learning_rate=0.01, n_estimators=25, total=   0.1s\n",
      "[CV] booster=gbtree, learning_rate=0.01, n_estimators=25 .............\n",
      "[CV]  booster=gbtree, learning_rate=0.01, n_estimators=25, total=   0.1s\n",
      "[CV] booster=gbtree, learning_rate=0.01, n_estimators=25 .............\n",
      "[CV]  booster=gbtree, learning_rate=0.01, n_estimators=25, total=   0.1s\n",
      "[CV] booster=gbtree, learning_rate=0.01, n_estimators=30 .............\n",
      "[CV]  booster=gbtree, learning_rate=0.01, n_estimators=30, total=   0.1s\n",
      "[CV] booster=gbtree, learning_rate=0.01, n_estimators=30 .............\n",
      "[CV]  booster=gbtree, learning_rate=0.01, n_estimators=30, total=   0.1s\n",
      "[CV] booster=gbtree, learning_rate=0.01, n_estimators=30 .............\n",
      "[CV]  booster=gbtree, learning_rate=0.01, n_estimators=30, total=   0.1s\n",
      "[CV] booster=gbtree, learning_rate=0.01, n_estimators=30 .............\n",
      "[CV]  booster=gbtree, learning_rate=0.01, n_estimators=30, total=   0.1s\n",
      "[CV] booster=gbtree, learning_rate=0.01, n_estimators=30 .............\n",
      "[CV]  booster=gbtree, learning_rate=0.01, n_estimators=30, total=   0.1s\n",
      "[CV] booster=gbtree, learning_rate=0.01, n_estimators=35 .............\n",
      "[CV]  booster=gbtree, learning_rate=0.01, n_estimators=35, total=   0.1s\n",
      "[CV] booster=gbtree, learning_rate=0.01, n_estimators=35 .............\n",
      "[CV]  booster=gbtree, learning_rate=0.01, n_estimators=35, total=   0.1s\n",
      "[CV] booster=gbtree, learning_rate=0.01, n_estimators=35 .............\n",
      "[CV]  booster=gbtree, learning_rate=0.01, n_estimators=35, total=   0.2s\n",
      "[CV] booster=gbtree, learning_rate=0.01, n_estimators=35 .............\n",
      "[CV]  booster=gbtree, learning_rate=0.01, n_estimators=35, total=   0.1s\n",
      "[CV] booster=gbtree, learning_rate=0.01, n_estimators=35 .............\n",
      "[CV]  booster=gbtree, learning_rate=0.01, n_estimators=35, total=   0.1s\n",
      "[CV] booster=gbtree, learning_rate=0.01, n_estimators=40 .............\n",
      "[CV]  booster=gbtree, learning_rate=0.01, n_estimators=40, total=   0.2s\n",
      "[CV] booster=gbtree, learning_rate=0.01, n_estimators=40 .............\n",
      "[CV]  booster=gbtree, learning_rate=0.01, n_estimators=40, total=   0.2s\n",
      "[CV] booster=gbtree, learning_rate=0.01, n_estimators=40 .............\n",
      "[CV]  booster=gbtree, learning_rate=0.01, n_estimators=40, total=   0.2s\n",
      "[CV] booster=gbtree, learning_rate=0.01, n_estimators=40 .............\n",
      "[CV]  booster=gbtree, learning_rate=0.01, n_estimators=40, total=   0.2s\n",
      "[CV] booster=gbtree, learning_rate=0.01, n_estimators=40 .............\n",
      "[CV]  booster=gbtree, learning_rate=0.01, n_estimators=40, total=   0.2s\n",
      "[CV] booster=gbtree, learning_rate=0.5, n_estimators=20 ..............\n",
      "[CV]  booster=gbtree, learning_rate=0.5, n_estimators=20, total=   0.1s\n",
      "[CV] booster=gbtree, learning_rate=0.5, n_estimators=20 ..............\n",
      "[CV]  booster=gbtree, learning_rate=0.5, n_estimators=20, total=   0.1s\n",
      "[CV] booster=gbtree, learning_rate=0.5, n_estimators=20 ..............\n",
      "[CV]  booster=gbtree, learning_rate=0.5, n_estimators=20, total=   0.1s\n",
      "[CV] booster=gbtree, learning_rate=0.5, n_estimators=20 ..............\n",
      "[CV]  booster=gbtree, learning_rate=0.5, n_estimators=20, total=   0.1s\n",
      "[CV] booster=gbtree, learning_rate=0.5, n_estimators=20 ..............\n",
      "[CV]  booster=gbtree, learning_rate=0.5, n_estimators=20, total=   0.1s\n",
      "[CV] booster=gbtree, learning_rate=0.5, n_estimators=25 ..............\n",
      "[CV]  booster=gbtree, learning_rate=0.5, n_estimators=25, total=   0.1s\n",
      "[CV] booster=gbtree, learning_rate=0.5, n_estimators=25 ..............\n",
      "[CV]  booster=gbtree, learning_rate=0.5, n_estimators=25, total=   0.1s\n",
      "[CV] booster=gbtree, learning_rate=0.5, n_estimators=25 ..............\n",
      "[CV]  booster=gbtree, learning_rate=0.5, n_estimators=25, total=   0.1s\n",
      "[CV] booster=gbtree, learning_rate=0.5, n_estimators=25 ..............\n",
      "[CV]  booster=gbtree, learning_rate=0.5, n_estimators=25, total=   0.1s\n",
      "[CV] booster=gbtree, learning_rate=0.5, n_estimators=25 ..............\n",
      "[CV]  booster=gbtree, learning_rate=0.5, n_estimators=25, total=   0.1s\n",
      "[CV] booster=gbtree, learning_rate=0.5, n_estimators=30 ..............\n",
      "[CV]  booster=gbtree, learning_rate=0.5, n_estimators=30, total=   0.1s\n",
      "[CV] booster=gbtree, learning_rate=0.5, n_estimators=30 ..............\n",
      "[CV]  booster=gbtree, learning_rate=0.5, n_estimators=30, total=   0.1s\n",
      "[CV] booster=gbtree, learning_rate=0.5, n_estimators=30 ..............\n",
      "[CV]  booster=gbtree, learning_rate=0.5, n_estimators=30, total=   0.1s\n",
      "[CV] booster=gbtree, learning_rate=0.5, n_estimators=30 ..............\n",
      "[CV]  booster=gbtree, learning_rate=0.5, n_estimators=30, total=   0.1s\n",
      "[CV] booster=gbtree, learning_rate=0.5, n_estimators=30 ..............\n",
      "[CV]  booster=gbtree, learning_rate=0.5, n_estimators=30, total=   0.1s\n",
      "[CV] booster=gbtree, learning_rate=0.5, n_estimators=35 ..............\n",
      "[CV]  booster=gbtree, learning_rate=0.5, n_estimators=35, total=   0.1s\n",
      "[CV] booster=gbtree, learning_rate=0.5, n_estimators=35 ..............\n",
      "[CV]  booster=gbtree, learning_rate=0.5, n_estimators=35, total=   0.1s\n",
      "[CV] booster=gbtree, learning_rate=0.5, n_estimators=35 ..............\n",
      "[CV]  booster=gbtree, learning_rate=0.5, n_estimators=35, total=   0.1s\n",
      "[CV] booster=gbtree, learning_rate=0.5, n_estimators=35 ..............\n",
      "[CV]  booster=gbtree, learning_rate=0.5, n_estimators=35, total=   0.1s\n",
      "[CV] booster=gbtree, learning_rate=0.5, n_estimators=35 ..............\n",
      "[CV]  booster=gbtree, learning_rate=0.5, n_estimators=35, total=   0.1s\n",
      "[CV] booster=gbtree, learning_rate=0.5, n_estimators=40 ..............\n",
      "[CV]  booster=gbtree, learning_rate=0.5, n_estimators=40, total=   0.1s\n",
      "[CV] booster=gbtree, learning_rate=0.5, n_estimators=40 ..............\n",
      "[CV]  booster=gbtree, learning_rate=0.5, n_estimators=40, total=   0.1s\n",
      "[CV] booster=gbtree, learning_rate=0.5, n_estimators=40 ..............\n",
      "[CV]  booster=gbtree, learning_rate=0.5, n_estimators=40, total=   0.1s\n",
      "[CV] booster=gbtree, learning_rate=0.5, n_estimators=40 ..............\n",
      "[CV]  booster=gbtree, learning_rate=0.5, n_estimators=40, total=   0.1s\n",
      "[CV] booster=gbtree, learning_rate=0.5, n_estimators=40 ..............\n",
      "[CV]  booster=gbtree, learning_rate=0.5, n_estimators=40, total=   0.1s\n"
     ]
    },
    {
     "name": "stderr",
     "output_type": "stream",
     "text": [
      "[Parallel(n_jobs=1)]: Done 175 out of 175 | elapsed:   20.9s finished\n"
     ]
    },
    {
     "data": {
      "text/plain": [
       "GridSearchCV(estimator=XGBRegressor(base_score=None, booster=None,\n",
       "                                    colsample_bylevel=None,\n",
       "                                    colsample_bynode=None,\n",
       "                                    colsample_bytree=None, gamma=None,\n",
       "                                    gpu_id=None, importance_type='gain',\n",
       "                                    interaction_constraints=None,\n",
       "                                    learning_rate=None, max_delta_step=None,\n",
       "                                    max_depth=None, min_child_weight=None,\n",
       "                                    missing=nan, monotone_constraints=None,\n",
       "                                    n_estimators=100, n_jobs=None,\n",
       "                                    num_parallel_tree=None, random_state=None,\n",
       "                                    reg_alpha=None, reg_lambda=None,\n",
       "                                    scale_pos_weight=None, subsample=None,\n",
       "                                    tree_method=None, validate_parameters=None,\n",
       "                                    verbosity=None),\n",
       "             param_grid={'booster': ['gbtree'],\n",
       "                         'learning_rate': [1, 0.2, 0.05, 0.3, 0.1, 0.01, 0.5],\n",
       "                         'n_estimators': [20, 25, 30, 35, 40]},\n",
       "             verbose=2)"
      ]
     },
     "execution_count": 78,
     "metadata": {},
     "output_type": "execute_result"
    }
   ],
   "source": [
    "grid.fit(X_train[cols], y_train)"
   ]
  },
  {
   "cell_type": "code",
   "execution_count": 79,
   "metadata": {},
   "outputs": [
    {
     "data": {
      "text/plain": [
       "{'booster': 'gbtree', 'learning_rate': 0.2, 'n_estimators': 20}"
      ]
     },
     "execution_count": 79,
     "metadata": {},
     "output_type": "execute_result"
    }
   ],
   "source": [
    "grid.best_params_"
   ]
  },
  {
   "cell_type": "code",
   "execution_count": 80,
   "metadata": {},
   "outputs": [
    {
     "data": {
      "text/plain": [
       "0.07633715076627734"
      ]
     },
     "execution_count": 80,
     "metadata": {},
     "output_type": "execute_result"
    }
   ],
   "source": [
    "grid.best_score_"
   ]
  },
  {
   "cell_type": "code",
   "execution_count": 81,
   "metadata": {},
   "outputs": [],
   "source": [
    "gridPred = grid.predict(val_X_test[cols])"
   ]
  },
  {
   "cell_type": "code",
   "execution_count": 82,
   "metadata": {},
   "outputs": [
    {
     "data": {
      "text/plain": [
       "1.8937408714642505"
      ]
     },
     "execution_count": 82,
     "metadata": {},
     "output_type": "execute_result"
    }
   ],
   "source": [
    "np.sqrt(mean_squared_log_error(gridPred, val_y_test))"
   ]
  },
  {
   "cell_type": "code",
   "execution_count": 83,
   "metadata": {},
   "outputs": [],
   "source": [
    "def save_submission(estimator, name):\n",
    "    pred = estimator.predict(X_test[cols])\n",
    "    sub = pd.read_csv('Sample Submission.csv')\n",
    "    sub[\"time_spent\"]=abs(pred)\n",
    "    sub.to_csv('Submissions/'+name+'.csv', index=False)"
   ]
  },
  {
   "cell_type": "code",
   "execution_count": 84,
   "metadata": {},
   "outputs": [],
   "source": [
    "save_submission(grid, 'Grid_XGBoost_v2')"
   ]
  },
  {
   "cell_type": "code",
   "execution_count": 85,
   "metadata": {},
   "outputs": [],
   "source": [
    "from sklearn.ensemble import RandomForestRegressor"
   ]
  },
  {
   "cell_type": "code",
   "execution_count": 86,
   "metadata": {},
   "outputs": [],
   "source": [
    "rf_Reg = RandomForestRegressor()\n",
    "param_grid = {'n_estimators': [20, 25, 30, 35, 40, 50, 70, 100, 200], \n",
    "              'ccp_alpha' : [0.001, 0.01, 0.1, 1, 10, 100]\n",
    "             } \n",
    "rf_grid = GridSearchCV(estimator=rf_Reg, param_grid= param_grid, verbose=2)"
   ]
  },
  {
   "cell_type": "code",
   "execution_count": 87,
   "metadata": {},
   "outputs": [
    {
     "name": "stdout",
     "output_type": "stream",
     "text": [
      "Fitting 5 folds for each of 54 candidates, totalling 270 fits\n",
      "[CV] ccp_alpha=0.001, n_estimators=20 ................................\n",
      "[CV] ................. ccp_alpha=0.001, n_estimators=20, total=   0.1s\n",
      "[CV] ccp_alpha=0.001, n_estimators=20 ................................\n"
     ]
    },
    {
     "name": "stderr",
     "output_type": "stream",
     "text": [
      "[Parallel(n_jobs=1)]: Using backend SequentialBackend with 1 concurrent workers.\n",
      "[Parallel(n_jobs=1)]: Done   1 out of   1 | elapsed:    0.0s remaining:    0.0s\n"
     ]
    },
    {
     "name": "stdout",
     "output_type": "stream",
     "text": [
      "[CV] ................. ccp_alpha=0.001, n_estimators=20, total=   0.2s\n",
      "[CV] ccp_alpha=0.001, n_estimators=20 ................................\n",
      "[CV] ................. ccp_alpha=0.001, n_estimators=20, total=   0.1s\n",
      "[CV] ccp_alpha=0.001, n_estimators=20 ................................\n",
      "[CV] ................. ccp_alpha=0.001, n_estimators=20, total=   0.1s\n",
      "[CV] ccp_alpha=0.001, n_estimators=20 ................................\n",
      "[CV] ................. ccp_alpha=0.001, n_estimators=20, total=   0.1s\n",
      "[CV] ccp_alpha=0.001, n_estimators=25 ................................\n",
      "[CV] ................. ccp_alpha=0.001, n_estimators=25, total=   0.2s\n",
      "[CV] ccp_alpha=0.001, n_estimators=25 ................................\n",
      "[CV] ................. ccp_alpha=0.001, n_estimators=25, total=   0.2s\n",
      "[CV] ccp_alpha=0.001, n_estimators=25 ................................\n",
      "[CV] ................. ccp_alpha=0.001, n_estimators=25, total=   0.2s\n",
      "[CV] ccp_alpha=0.001, n_estimators=25 ................................\n",
      "[CV] ................. ccp_alpha=0.001, n_estimators=25, total=   0.2s\n",
      "[CV] ccp_alpha=0.001, n_estimators=25 ................................\n",
      "[CV] ................. ccp_alpha=0.001, n_estimators=25, total=   0.2s\n",
      "[CV] ccp_alpha=0.001, n_estimators=30 ................................\n",
      "[CV] ................. ccp_alpha=0.001, n_estimators=30, total=   0.2s\n",
      "[CV] ccp_alpha=0.001, n_estimators=30 ................................\n",
      "[CV] ................. ccp_alpha=0.001, n_estimators=30, total=   0.2s\n",
      "[CV] ccp_alpha=0.001, n_estimators=30 ................................\n",
      "[CV] ................. ccp_alpha=0.001, n_estimators=30, total=   0.2s\n",
      "[CV] ccp_alpha=0.001, n_estimators=30 ................................\n",
      "[CV] ................. ccp_alpha=0.001, n_estimators=30, total=   0.2s\n",
      "[CV] ccp_alpha=0.001, n_estimators=30 ................................\n",
      "[CV] ................. ccp_alpha=0.001, n_estimators=30, total=   0.2s\n",
      "[CV] ccp_alpha=0.001, n_estimators=35 ................................\n",
      "[CV] ................. ccp_alpha=0.001, n_estimators=35, total=   0.3s\n",
      "[CV] ccp_alpha=0.001, n_estimators=35 ................................\n",
      "[CV] ................. ccp_alpha=0.001, n_estimators=35, total=   0.3s\n",
      "[CV] ccp_alpha=0.001, n_estimators=35 ................................\n",
      "[CV] ................. ccp_alpha=0.001, n_estimators=35, total=   0.3s\n",
      "[CV] ccp_alpha=0.001, n_estimators=35 ................................\n",
      "[CV] ................. ccp_alpha=0.001, n_estimators=35, total=   0.3s\n",
      "[CV] ccp_alpha=0.001, n_estimators=35 ................................\n",
      "[CV] ................. ccp_alpha=0.001, n_estimators=35, total=   0.3s\n",
      "[CV] ccp_alpha=0.001, n_estimators=40 ................................\n",
      "[CV] ................. ccp_alpha=0.001, n_estimators=40, total=   0.3s\n",
      "[CV] ccp_alpha=0.001, n_estimators=40 ................................\n",
      "[CV] ................. ccp_alpha=0.001, n_estimators=40, total=   0.4s\n",
      "[CV] ccp_alpha=0.001, n_estimators=40 ................................\n",
      "[CV] ................. ccp_alpha=0.001, n_estimators=40, total=   0.3s\n",
      "[CV] ccp_alpha=0.001, n_estimators=40 ................................\n",
      "[CV] ................. ccp_alpha=0.001, n_estimators=40, total=   0.3s\n",
      "[CV] ccp_alpha=0.001, n_estimators=40 ................................\n",
      "[CV] ................. ccp_alpha=0.001, n_estimators=40, total=   0.3s\n",
      "[CV] ccp_alpha=0.001, n_estimators=50 ................................\n",
      "[CV] ................. ccp_alpha=0.001, n_estimators=50, total=   0.3s\n",
      "[CV] ccp_alpha=0.001, n_estimators=50 ................................\n",
      "[CV] ................. ccp_alpha=0.001, n_estimators=50, total=   0.3s\n",
      "[CV] ccp_alpha=0.001, n_estimators=50 ................................\n",
      "[CV] ................. ccp_alpha=0.001, n_estimators=50, total=   0.3s\n",
      "[CV] ccp_alpha=0.001, n_estimators=50 ................................\n",
      "[CV] ................. ccp_alpha=0.001, n_estimators=50, total=   0.4s\n",
      "[CV] ccp_alpha=0.001, n_estimators=50 ................................\n",
      "[CV] ................. ccp_alpha=0.001, n_estimators=50, total=   0.4s\n",
      "[CV] ccp_alpha=0.001, n_estimators=70 ................................\n",
      "[CV] ................. ccp_alpha=0.001, n_estimators=70, total=   0.5s\n",
      "[CV] ccp_alpha=0.001, n_estimators=70 ................................\n",
      "[CV] ................. ccp_alpha=0.001, n_estimators=70, total=   0.5s\n",
      "[CV] ccp_alpha=0.001, n_estimators=70 ................................\n",
      "[CV] ................. ccp_alpha=0.001, n_estimators=70, total=   0.5s\n",
      "[CV] ccp_alpha=0.001, n_estimators=70 ................................\n",
      "[CV] ................. ccp_alpha=0.001, n_estimators=70, total=   0.5s\n",
      "[CV] ccp_alpha=0.001, n_estimators=70 ................................\n",
      "[CV] ................. ccp_alpha=0.001, n_estimators=70, total=   0.5s\n",
      "[CV] ccp_alpha=0.001, n_estimators=100 ...............................\n",
      "[CV] ................ ccp_alpha=0.001, n_estimators=100, total=   0.7s\n",
      "[CV] ccp_alpha=0.001, n_estimators=100 ...............................\n",
      "[CV] ................ ccp_alpha=0.001, n_estimators=100, total=   0.8s\n",
      "[CV] ccp_alpha=0.001, n_estimators=100 ...............................\n",
      "[CV] ................ ccp_alpha=0.001, n_estimators=100, total=   0.7s\n",
      "[CV] ccp_alpha=0.001, n_estimators=100 ...............................\n",
      "[CV] ................ ccp_alpha=0.001, n_estimators=100, total=   0.7s\n",
      "[CV] ccp_alpha=0.001, n_estimators=100 ...............................\n",
      "[CV] ................ ccp_alpha=0.001, n_estimators=100, total=   0.7s\n",
      "[CV] ccp_alpha=0.001, n_estimators=200 ...............................\n",
      "[CV] ................ ccp_alpha=0.001, n_estimators=200, total=   1.4s\n",
      "[CV] ccp_alpha=0.001, n_estimators=200 ...............................\n",
      "[CV] ................ ccp_alpha=0.001, n_estimators=200, total=   1.4s\n",
      "[CV] ccp_alpha=0.001, n_estimators=200 ...............................\n",
      "[CV] ................ ccp_alpha=0.001, n_estimators=200, total=   1.3s\n",
      "[CV] ccp_alpha=0.001, n_estimators=200 ...............................\n",
      "[CV] ................ ccp_alpha=0.001, n_estimators=200, total=   1.3s\n",
      "[CV] ccp_alpha=0.001, n_estimators=200 ...............................\n",
      "[CV] ................ ccp_alpha=0.001, n_estimators=200, total=   1.4s\n",
      "[CV] ccp_alpha=0.01, n_estimators=20 .................................\n",
      "[CV] .................. ccp_alpha=0.01, n_estimators=20, total=   0.2s\n",
      "[CV] ccp_alpha=0.01, n_estimators=20 .................................\n",
      "[CV] .................. ccp_alpha=0.01, n_estimators=20, total=   0.2s\n",
      "[CV] ccp_alpha=0.01, n_estimators=20 .................................\n",
      "[CV] .................. ccp_alpha=0.01, n_estimators=20, total=   0.1s\n",
      "[CV] ccp_alpha=0.01, n_estimators=20 .................................\n",
      "[CV] .................. ccp_alpha=0.01, n_estimators=20, total=   0.1s\n",
      "[CV] ccp_alpha=0.01, n_estimators=20 .................................\n",
      "[CV] .................. ccp_alpha=0.01, n_estimators=20, total=   0.1s\n",
      "[CV] ccp_alpha=0.01, n_estimators=25 .................................\n",
      "[CV] .................. ccp_alpha=0.01, n_estimators=25, total=   0.2s\n",
      "[CV] ccp_alpha=0.01, n_estimators=25 .................................\n",
      "[CV] .................. ccp_alpha=0.01, n_estimators=25, total=   0.2s\n",
      "[CV] ccp_alpha=0.01, n_estimators=25 .................................\n",
      "[CV] .................. ccp_alpha=0.01, n_estimators=25, total=   0.2s\n",
      "[CV] ccp_alpha=0.01, n_estimators=25 .................................\n",
      "[CV] .................. ccp_alpha=0.01, n_estimators=25, total=   0.2s\n",
      "[CV] ccp_alpha=0.01, n_estimators=25 .................................\n",
      "[CV] .................. ccp_alpha=0.01, n_estimators=25, total=   0.2s\n",
      "[CV] ccp_alpha=0.01, n_estimators=30 .................................\n",
      "[CV] .................. ccp_alpha=0.01, n_estimators=30, total=   0.2s\n",
      "[CV] ccp_alpha=0.01, n_estimators=30 .................................\n",
      "[CV] .................. ccp_alpha=0.01, n_estimators=30, total=   0.2s\n",
      "[CV] ccp_alpha=0.01, n_estimators=30 .................................\n",
      "[CV] .................. ccp_alpha=0.01, n_estimators=30, total=   0.2s\n",
      "[CV] ccp_alpha=0.01, n_estimators=30 .................................\n",
      "[CV] .................. ccp_alpha=0.01, n_estimators=30, total=   0.2s\n",
      "[CV] ccp_alpha=0.01, n_estimators=30 .................................\n"
     ]
    },
    {
     "name": "stdout",
     "output_type": "stream",
     "text": [
      "[CV] .................. ccp_alpha=0.01, n_estimators=30, total=   0.2s\n",
      "[CV] ccp_alpha=0.01, n_estimators=35 .................................\n",
      "[CV] .................. ccp_alpha=0.01, n_estimators=35, total=   0.2s\n",
      "[CV] ccp_alpha=0.01, n_estimators=35 .................................\n",
      "[CV] .................. ccp_alpha=0.01, n_estimators=35, total=   0.2s\n",
      "[CV] ccp_alpha=0.01, n_estimators=35 .................................\n",
      "[CV] .................. ccp_alpha=0.01, n_estimators=35, total=   0.2s\n",
      "[CV] ccp_alpha=0.01, n_estimators=35 .................................\n",
      "[CV] .................. ccp_alpha=0.01, n_estimators=35, total=   0.2s\n",
      "[CV] ccp_alpha=0.01, n_estimators=35 .................................\n",
      "[CV] .................. ccp_alpha=0.01, n_estimators=35, total=   0.2s\n",
      "[CV] ccp_alpha=0.01, n_estimators=40 .................................\n",
      "[CV] .................. ccp_alpha=0.01, n_estimators=40, total=   0.3s\n",
      "[CV] ccp_alpha=0.01, n_estimators=40 .................................\n",
      "[CV] .................. ccp_alpha=0.01, n_estimators=40, total=   0.3s\n",
      "[CV] ccp_alpha=0.01, n_estimators=40 .................................\n",
      "[CV] .................. ccp_alpha=0.01, n_estimators=40, total=   0.3s\n",
      "[CV] ccp_alpha=0.01, n_estimators=40 .................................\n",
      "[CV] .................. ccp_alpha=0.01, n_estimators=40, total=   0.3s\n",
      "[CV] ccp_alpha=0.01, n_estimators=40 .................................\n",
      "[CV] .................. ccp_alpha=0.01, n_estimators=40, total=   0.3s\n",
      "[CV] ccp_alpha=0.01, n_estimators=50 .................................\n",
      "[CV] .................. ccp_alpha=0.01, n_estimators=50, total=   0.3s\n",
      "[CV] ccp_alpha=0.01, n_estimators=50 .................................\n",
      "[CV] .................. ccp_alpha=0.01, n_estimators=50, total=   0.3s\n",
      "[CV] ccp_alpha=0.01, n_estimators=50 .................................\n",
      "[CV] .................. ccp_alpha=0.01, n_estimators=50, total=   0.3s\n",
      "[CV] ccp_alpha=0.01, n_estimators=50 .................................\n",
      "[CV] .................. ccp_alpha=0.01, n_estimators=50, total=   0.3s\n",
      "[CV] ccp_alpha=0.01, n_estimators=50 .................................\n",
      "[CV] .................. ccp_alpha=0.01, n_estimators=50, total=   0.3s\n",
      "[CV] ccp_alpha=0.01, n_estimators=70 .................................\n",
      "[CV] .................. ccp_alpha=0.01, n_estimators=70, total=   0.5s\n",
      "[CV] ccp_alpha=0.01, n_estimators=70 .................................\n",
      "[CV] .................. ccp_alpha=0.01, n_estimators=70, total=   0.5s\n",
      "[CV] ccp_alpha=0.01, n_estimators=70 .................................\n",
      "[CV] .................. ccp_alpha=0.01, n_estimators=70, total=   0.5s\n",
      "[CV] ccp_alpha=0.01, n_estimators=70 .................................\n",
      "[CV] .................. ccp_alpha=0.01, n_estimators=70, total=   0.5s\n",
      "[CV] ccp_alpha=0.01, n_estimators=70 .................................\n",
      "[CV] .................. ccp_alpha=0.01, n_estimators=70, total=   0.5s\n",
      "[CV] ccp_alpha=0.01, n_estimators=100 ................................\n",
      "[CV] ................. ccp_alpha=0.01, n_estimators=100, total=   0.7s\n",
      "[CV] ccp_alpha=0.01, n_estimators=100 ................................\n",
      "[CV] ................. ccp_alpha=0.01, n_estimators=100, total=   0.7s\n",
      "[CV] ccp_alpha=0.01, n_estimators=100 ................................\n",
      "[CV] ................. ccp_alpha=0.01, n_estimators=100, total=   0.7s\n",
      "[CV] ccp_alpha=0.01, n_estimators=100 ................................\n",
      "[CV] ................. ccp_alpha=0.01, n_estimators=100, total=   0.7s\n",
      "[CV] ccp_alpha=0.01, n_estimators=100 ................................\n",
      "[CV] ................. ccp_alpha=0.01, n_estimators=100, total=   0.7s\n",
      "[CV] ccp_alpha=0.01, n_estimators=200 ................................\n",
      "[CV] ................. ccp_alpha=0.01, n_estimators=200, total=   1.3s\n",
      "[CV] ccp_alpha=0.01, n_estimators=200 ................................\n",
      "[CV] ................. ccp_alpha=0.01, n_estimators=200, total=   1.4s\n",
      "[CV] ccp_alpha=0.01, n_estimators=200 ................................\n",
      "[CV] ................. ccp_alpha=0.01, n_estimators=200, total=   1.4s\n",
      "[CV] ccp_alpha=0.01, n_estimators=200 ................................\n",
      "[CV] ................. ccp_alpha=0.01, n_estimators=200, total=   1.3s\n",
      "[CV] ccp_alpha=0.01, n_estimators=200 ................................\n",
      "[CV] ................. ccp_alpha=0.01, n_estimators=200, total=   1.4s\n",
      "[CV] ccp_alpha=0.1, n_estimators=20 ..................................\n",
      "[CV] ................... ccp_alpha=0.1, n_estimators=20, total=   0.1s\n",
      "[CV] ccp_alpha=0.1, n_estimators=20 ..................................\n",
      "[CV] ................... ccp_alpha=0.1, n_estimators=20, total=   0.1s\n",
      "[CV] ccp_alpha=0.1, n_estimators=20 ..................................\n",
      "[CV] ................... ccp_alpha=0.1, n_estimators=20, total=   0.1s\n",
      "[CV] ccp_alpha=0.1, n_estimators=20 ..................................\n",
      "[CV] ................... ccp_alpha=0.1, n_estimators=20, total=   0.1s\n",
      "[CV] ccp_alpha=0.1, n_estimators=20 ..................................\n",
      "[CV] ................... ccp_alpha=0.1, n_estimators=20, total=   0.1s\n",
      "[CV] ccp_alpha=0.1, n_estimators=25 ..................................\n",
      "[CV] ................... ccp_alpha=0.1, n_estimators=25, total=   0.2s\n",
      "[CV] ccp_alpha=0.1, n_estimators=25 ..................................\n",
      "[CV] ................... ccp_alpha=0.1, n_estimators=25, total=   0.2s\n",
      "[CV] ccp_alpha=0.1, n_estimators=25 ..................................\n",
      "[CV] ................... ccp_alpha=0.1, n_estimators=25, total=   0.2s\n",
      "[CV] ccp_alpha=0.1, n_estimators=25 ..................................\n",
      "[CV] ................... ccp_alpha=0.1, n_estimators=25, total=   0.2s\n",
      "[CV] ccp_alpha=0.1, n_estimators=25 ..................................\n",
      "[CV] ................... ccp_alpha=0.1, n_estimators=25, total=   0.2s\n",
      "[CV] ccp_alpha=0.1, n_estimators=30 ..................................\n",
      "[CV] ................... ccp_alpha=0.1, n_estimators=30, total=   0.2s\n",
      "[CV] ccp_alpha=0.1, n_estimators=30 ..................................\n",
      "[CV] ................... ccp_alpha=0.1, n_estimators=30, total=   0.2s\n",
      "[CV] ccp_alpha=0.1, n_estimators=30 ..................................\n",
      "[CV] ................... ccp_alpha=0.1, n_estimators=30, total=   0.2s\n",
      "[CV] ccp_alpha=0.1, n_estimators=30 ..................................\n",
      "[CV] ................... ccp_alpha=0.1, n_estimators=30, total=   0.2s\n",
      "[CV] ccp_alpha=0.1, n_estimators=30 ..................................\n",
      "[CV] ................... ccp_alpha=0.1, n_estimators=30, total=   0.2s\n",
      "[CV] ccp_alpha=0.1, n_estimators=35 ..................................\n",
      "[CV] ................... ccp_alpha=0.1, n_estimators=35, total=   0.2s\n",
      "[CV] ccp_alpha=0.1, n_estimators=35 ..................................\n",
      "[CV] ................... ccp_alpha=0.1, n_estimators=35, total=   0.2s\n",
      "[CV] ccp_alpha=0.1, n_estimators=35 ..................................\n",
      "[CV] ................... ccp_alpha=0.1, n_estimators=35, total=   0.2s\n",
      "[CV] ccp_alpha=0.1, n_estimators=35 ..................................\n",
      "[CV] ................... ccp_alpha=0.1, n_estimators=35, total=   0.2s\n",
      "[CV] ccp_alpha=0.1, n_estimators=35 ..................................\n",
      "[CV] ................... ccp_alpha=0.1, n_estimators=35, total=   0.2s\n",
      "[CV] ccp_alpha=0.1, n_estimators=40 ..................................\n",
      "[CV] ................... ccp_alpha=0.1, n_estimators=40, total=   0.3s\n",
      "[CV] ccp_alpha=0.1, n_estimators=40 ..................................\n",
      "[CV] ................... ccp_alpha=0.1, n_estimators=40, total=   0.3s\n",
      "[CV] ccp_alpha=0.1, n_estimators=40 ..................................\n",
      "[CV] ................... ccp_alpha=0.1, n_estimators=40, total=   0.3s\n",
      "[CV] ccp_alpha=0.1, n_estimators=40 ..................................\n",
      "[CV] ................... ccp_alpha=0.1, n_estimators=40, total=   0.3s\n",
      "[CV] ccp_alpha=0.1, n_estimators=40 ..................................\n",
      "[CV] ................... ccp_alpha=0.1, n_estimators=40, total=   0.3s\n",
      "[CV] ccp_alpha=0.1, n_estimators=50 ..................................\n",
      "[CV] ................... ccp_alpha=0.1, n_estimators=50, total=   0.4s\n",
      "[CV] ccp_alpha=0.1, n_estimators=50 ..................................\n",
      "[CV] ................... ccp_alpha=0.1, n_estimators=50, total=   0.3s\n",
      "[CV] ccp_alpha=0.1, n_estimators=50 ..................................\n"
     ]
    },
    {
     "name": "stdout",
     "output_type": "stream",
     "text": [
      "[CV] ................... ccp_alpha=0.1, n_estimators=50, total=   0.3s\n",
      "[CV] ccp_alpha=0.1, n_estimators=50 ..................................\n",
      "[CV] ................... ccp_alpha=0.1, n_estimators=50, total=   0.3s\n",
      "[CV] ccp_alpha=0.1, n_estimators=50 ..................................\n",
      "[CV] ................... ccp_alpha=0.1, n_estimators=50, total=   0.3s\n",
      "[CV] ccp_alpha=0.1, n_estimators=70 ..................................\n",
      "[CV] ................... ccp_alpha=0.1, n_estimators=70, total=   0.5s\n",
      "[CV] ccp_alpha=0.1, n_estimators=70 ..................................\n",
      "[CV] ................... ccp_alpha=0.1, n_estimators=70, total=   0.5s\n",
      "[CV] ccp_alpha=0.1, n_estimators=70 ..................................\n",
      "[CV] ................... ccp_alpha=0.1, n_estimators=70, total=   0.5s\n",
      "[CV] ccp_alpha=0.1, n_estimators=70 ..................................\n",
      "[CV] ................... ccp_alpha=0.1, n_estimators=70, total=   0.5s\n",
      "[CV] ccp_alpha=0.1, n_estimators=70 ..................................\n",
      "[CV] ................... ccp_alpha=0.1, n_estimators=70, total=   0.5s\n",
      "[CV] ccp_alpha=0.1, n_estimators=100 .................................\n",
      "[CV] .................. ccp_alpha=0.1, n_estimators=100, total=   0.7s\n",
      "[CV] ccp_alpha=0.1, n_estimators=100 .................................\n",
      "[CV] .................. ccp_alpha=0.1, n_estimators=100, total=   0.7s\n",
      "[CV] ccp_alpha=0.1, n_estimators=100 .................................\n",
      "[CV] .................. ccp_alpha=0.1, n_estimators=100, total=   0.7s\n",
      "[CV] ccp_alpha=0.1, n_estimators=100 .................................\n",
      "[CV] .................. ccp_alpha=0.1, n_estimators=100, total=   0.7s\n",
      "[CV] ccp_alpha=0.1, n_estimators=100 .................................\n",
      "[CV] .................. ccp_alpha=0.1, n_estimators=100, total=   0.7s\n",
      "[CV] ccp_alpha=0.1, n_estimators=200 .................................\n",
      "[CV] .................. ccp_alpha=0.1, n_estimators=200, total=   1.4s\n",
      "[CV] ccp_alpha=0.1, n_estimators=200 .................................\n",
      "[CV] .................. ccp_alpha=0.1, n_estimators=200, total=   1.4s\n",
      "[CV] ccp_alpha=0.1, n_estimators=200 .................................\n",
      "[CV] .................. ccp_alpha=0.1, n_estimators=200, total=   1.4s\n",
      "[CV] ccp_alpha=0.1, n_estimators=200 .................................\n",
      "[CV] .................. ccp_alpha=0.1, n_estimators=200, total=   1.3s\n",
      "[CV] ccp_alpha=0.1, n_estimators=200 .................................\n",
      "[CV] .................. ccp_alpha=0.1, n_estimators=200, total=   1.4s\n",
      "[CV] ccp_alpha=1, n_estimators=20 ....................................\n",
      "[CV] ..................... ccp_alpha=1, n_estimators=20, total=   0.1s\n",
      "[CV] ccp_alpha=1, n_estimators=20 ....................................\n",
      "[CV] ..................... ccp_alpha=1, n_estimators=20, total=   0.1s\n",
      "[CV] ccp_alpha=1, n_estimators=20 ....................................\n",
      "[CV] ..................... ccp_alpha=1, n_estimators=20, total=   0.1s\n",
      "[CV] ccp_alpha=1, n_estimators=20 ....................................\n",
      "[CV] ..................... ccp_alpha=1, n_estimators=20, total=   0.1s\n",
      "[CV] ccp_alpha=1, n_estimators=20 ....................................\n",
      "[CV] ..................... ccp_alpha=1, n_estimators=20, total=   0.1s\n",
      "[CV] ccp_alpha=1, n_estimators=25 ....................................\n",
      "[CV] ..................... ccp_alpha=1, n_estimators=25, total=   0.2s\n",
      "[CV] ccp_alpha=1, n_estimators=25 ....................................\n",
      "[CV] ..................... ccp_alpha=1, n_estimators=25, total=   0.2s\n",
      "[CV] ccp_alpha=1, n_estimators=25 ....................................\n",
      "[CV] ..................... ccp_alpha=1, n_estimators=25, total=   0.2s\n",
      "[CV] ccp_alpha=1, n_estimators=25 ....................................\n",
      "[CV] ..................... ccp_alpha=1, n_estimators=25, total=   0.2s\n",
      "[CV] ccp_alpha=1, n_estimators=25 ....................................\n",
      "[CV] ..................... ccp_alpha=1, n_estimators=25, total=   0.2s\n",
      "[CV] ccp_alpha=1, n_estimators=30 ....................................\n",
      "[CV] ..................... ccp_alpha=1, n_estimators=30, total=   0.2s\n",
      "[CV] ccp_alpha=1, n_estimators=30 ....................................\n",
      "[CV] ..................... ccp_alpha=1, n_estimators=30, total=   0.2s\n",
      "[CV] ccp_alpha=1, n_estimators=30 ....................................\n",
      "[CV] ..................... ccp_alpha=1, n_estimators=30, total=   0.2s\n",
      "[CV] ccp_alpha=1, n_estimators=30 ....................................\n",
      "[CV] ..................... ccp_alpha=1, n_estimators=30, total=   0.2s\n",
      "[CV] ccp_alpha=1, n_estimators=30 ....................................\n",
      "[CV] ..................... ccp_alpha=1, n_estimators=30, total=   0.2s\n",
      "[CV] ccp_alpha=1, n_estimators=35 ....................................\n",
      "[CV] ..................... ccp_alpha=1, n_estimators=35, total=   0.3s\n",
      "[CV] ccp_alpha=1, n_estimators=35 ....................................\n",
      "[CV] ..................... ccp_alpha=1, n_estimators=35, total=   0.3s\n",
      "[CV] ccp_alpha=1, n_estimators=35 ....................................\n",
      "[CV] ..................... ccp_alpha=1, n_estimators=35, total=   0.3s\n",
      "[CV] ccp_alpha=1, n_estimators=35 ....................................\n",
      "[CV] ..................... ccp_alpha=1, n_estimators=35, total=   0.3s\n",
      "[CV] ccp_alpha=1, n_estimators=35 ....................................\n",
      "[CV] ..................... ccp_alpha=1, n_estimators=35, total=   0.3s\n",
      "[CV] ccp_alpha=1, n_estimators=40 ....................................\n",
      "[CV] ..................... ccp_alpha=1, n_estimators=40, total=   0.3s\n",
      "[CV] ccp_alpha=1, n_estimators=40 ....................................\n",
      "[CV] ..................... ccp_alpha=1, n_estimators=40, total=   0.3s\n",
      "[CV] ccp_alpha=1, n_estimators=40 ....................................\n",
      "[CV] ..................... ccp_alpha=1, n_estimators=40, total=   0.3s\n",
      "[CV] ccp_alpha=1, n_estimators=40 ....................................\n",
      "[CV] ..................... ccp_alpha=1, n_estimators=40, total=   0.3s\n",
      "[CV] ccp_alpha=1, n_estimators=40 ....................................\n",
      "[CV] ..................... ccp_alpha=1, n_estimators=40, total=   0.3s\n",
      "[CV] ccp_alpha=1, n_estimators=50 ....................................\n",
      "[CV] ..................... ccp_alpha=1, n_estimators=50, total=   0.4s\n",
      "[CV] ccp_alpha=1, n_estimators=50 ....................................\n",
      "[CV] ..................... ccp_alpha=1, n_estimators=50, total=   0.4s\n",
      "[CV] ccp_alpha=1, n_estimators=50 ....................................\n",
      "[CV] ..................... ccp_alpha=1, n_estimators=50, total=   0.4s\n",
      "[CV] ccp_alpha=1, n_estimators=50 ....................................\n",
      "[CV] ..................... ccp_alpha=1, n_estimators=50, total=   0.4s\n",
      "[CV] ccp_alpha=1, n_estimators=50 ....................................\n",
      "[CV] ..................... ccp_alpha=1, n_estimators=50, total=   0.4s\n",
      "[CV] ccp_alpha=1, n_estimators=70 ....................................\n",
      "[CV] ..................... ccp_alpha=1, n_estimators=70, total=   0.5s\n",
      "[CV] ccp_alpha=1, n_estimators=70 ....................................\n",
      "[CV] ..................... ccp_alpha=1, n_estimators=70, total=   0.5s\n",
      "[CV] ccp_alpha=1, n_estimators=70 ....................................\n",
      "[CV] ..................... ccp_alpha=1, n_estimators=70, total=   0.5s\n",
      "[CV] ccp_alpha=1, n_estimators=70 ....................................\n",
      "[CV] ..................... ccp_alpha=1, n_estimators=70, total=   0.5s\n",
      "[CV] ccp_alpha=1, n_estimators=70 ....................................\n",
      "[CV] ..................... ccp_alpha=1, n_estimators=70, total=   0.5s\n",
      "[CV] ccp_alpha=1, n_estimators=100 ...................................\n",
      "[CV] .................... ccp_alpha=1, n_estimators=100, total=   0.7s\n",
      "[CV] ccp_alpha=1, n_estimators=100 ...................................\n",
      "[CV] .................... ccp_alpha=1, n_estimators=100, total=   0.7s\n",
      "[CV] ccp_alpha=1, n_estimators=100 ...................................\n",
      "[CV] .................... ccp_alpha=1, n_estimators=100, total=   0.7s\n",
      "[CV] ccp_alpha=1, n_estimators=100 ...................................\n",
      "[CV] .................... ccp_alpha=1, n_estimators=100, total=   0.7s\n",
      "[CV] ccp_alpha=1, n_estimators=100 ...................................\n",
      "[CV] .................... ccp_alpha=1, n_estimators=100, total=   0.7s\n",
      "[CV] ccp_alpha=1, n_estimators=200 ...................................\n"
     ]
    },
    {
     "name": "stdout",
     "output_type": "stream",
     "text": [
      "[CV] .................... ccp_alpha=1, n_estimators=200, total=   1.4s\n",
      "[CV] ccp_alpha=1, n_estimators=200 ...................................\n",
      "[CV] .................... ccp_alpha=1, n_estimators=200, total=   1.4s\n",
      "[CV] ccp_alpha=1, n_estimators=200 ...................................\n",
      "[CV] .................... ccp_alpha=1, n_estimators=200, total=   1.4s\n",
      "[CV] ccp_alpha=1, n_estimators=200 ...................................\n",
      "[CV] .................... ccp_alpha=1, n_estimators=200, total=   1.4s\n",
      "[CV] ccp_alpha=1, n_estimators=200 ...................................\n",
      "[CV] .................... ccp_alpha=1, n_estimators=200, total=   1.4s\n",
      "[CV] ccp_alpha=10, n_estimators=20 ...................................\n",
      "[CV] .................... ccp_alpha=10, n_estimators=20, total=   0.2s\n",
      "[CV] ccp_alpha=10, n_estimators=20 ...................................\n",
      "[CV] .................... ccp_alpha=10, n_estimators=20, total=   0.2s\n",
      "[CV] ccp_alpha=10, n_estimators=20 ...................................\n",
      "[CV] .................... ccp_alpha=10, n_estimators=20, total=   0.2s\n",
      "[CV] ccp_alpha=10, n_estimators=20 ...................................\n",
      "[CV] .................... ccp_alpha=10, n_estimators=20, total=   0.2s\n",
      "[CV] ccp_alpha=10, n_estimators=20 ...................................\n",
      "[CV] .................... ccp_alpha=10, n_estimators=20, total=   0.2s\n",
      "[CV] ccp_alpha=10, n_estimators=25 ...................................\n",
      "[CV] .................... ccp_alpha=10, n_estimators=25, total=   0.2s\n",
      "[CV] ccp_alpha=10, n_estimators=25 ...................................\n",
      "[CV] .................... ccp_alpha=10, n_estimators=25, total=   0.2s\n",
      "[CV] ccp_alpha=10, n_estimators=25 ...................................\n",
      "[CV] .................... ccp_alpha=10, n_estimators=25, total=   0.2s\n",
      "[CV] ccp_alpha=10, n_estimators=25 ...................................\n",
      "[CV] .................... ccp_alpha=10, n_estimators=25, total=   0.2s\n",
      "[CV] ccp_alpha=10, n_estimators=25 ...................................\n",
      "[CV] .................... ccp_alpha=10, n_estimators=25, total=   0.2s\n",
      "[CV] ccp_alpha=10, n_estimators=30 ...................................\n",
      "[CV] .................... ccp_alpha=10, n_estimators=30, total=   0.2s\n",
      "[CV] ccp_alpha=10, n_estimators=30 ...................................\n",
      "[CV] .................... ccp_alpha=10, n_estimators=30, total=   0.2s\n",
      "[CV] ccp_alpha=10, n_estimators=30 ...................................\n",
      "[CV] .................... ccp_alpha=10, n_estimators=30, total=   0.2s\n",
      "[CV] ccp_alpha=10, n_estimators=30 ...................................\n",
      "[CV] .................... ccp_alpha=10, n_estimators=30, total=   0.2s\n",
      "[CV] ccp_alpha=10, n_estimators=30 ...................................\n",
      "[CV] .................... ccp_alpha=10, n_estimators=30, total=   0.2s\n",
      "[CV] ccp_alpha=10, n_estimators=35 ...................................\n",
      "[CV] .................... ccp_alpha=10, n_estimators=35, total=   0.3s\n",
      "[CV] ccp_alpha=10, n_estimators=35 ...................................\n",
      "[CV] .................... ccp_alpha=10, n_estimators=35, total=   0.3s\n",
      "[CV] ccp_alpha=10, n_estimators=35 ...................................\n",
      "[CV] .................... ccp_alpha=10, n_estimators=35, total=   0.3s\n",
      "[CV] ccp_alpha=10, n_estimators=35 ...................................\n",
      "[CV] .................... ccp_alpha=10, n_estimators=35, total=   0.3s\n",
      "[CV] ccp_alpha=10, n_estimators=35 ...................................\n",
      "[CV] .................... ccp_alpha=10, n_estimators=35, total=   0.3s\n",
      "[CV] ccp_alpha=10, n_estimators=40 ...................................\n",
      "[CV] .................... ccp_alpha=10, n_estimators=40, total=   0.3s\n",
      "[CV] ccp_alpha=10, n_estimators=40 ...................................\n",
      "[CV] .................... ccp_alpha=10, n_estimators=40, total=   0.3s\n",
      "[CV] ccp_alpha=10, n_estimators=40 ...................................\n",
      "[CV] .................... ccp_alpha=10, n_estimators=40, total=   0.3s\n",
      "[CV] ccp_alpha=10, n_estimators=40 ...................................\n",
      "[CV] .................... ccp_alpha=10, n_estimators=40, total=   0.3s\n",
      "[CV] ccp_alpha=10, n_estimators=40 ...................................\n",
      "[CV] .................... ccp_alpha=10, n_estimators=40, total=   0.3s\n",
      "[CV] ccp_alpha=10, n_estimators=50 ...................................\n",
      "[CV] .................... ccp_alpha=10, n_estimators=50, total=   0.4s\n",
      "[CV] ccp_alpha=10, n_estimators=50 ...................................\n",
      "[CV] .................... ccp_alpha=10, n_estimators=50, total=   0.4s\n",
      "[CV] ccp_alpha=10, n_estimators=50 ...................................\n",
      "[CV] .................... ccp_alpha=10, n_estimators=50, total=   0.4s\n",
      "[CV] ccp_alpha=10, n_estimators=50 ...................................\n",
      "[CV] .................... ccp_alpha=10, n_estimators=50, total=   0.4s\n",
      "[CV] ccp_alpha=10, n_estimators=50 ...................................\n",
      "[CV] .................... ccp_alpha=10, n_estimators=50, total=   0.4s\n",
      "[CV] ccp_alpha=10, n_estimators=70 ...................................\n",
      "[CV] .................... ccp_alpha=10, n_estimators=70, total=   0.5s\n",
      "[CV] ccp_alpha=10, n_estimators=70 ...................................\n",
      "[CV] .................... ccp_alpha=10, n_estimators=70, total=   0.5s\n",
      "[CV] ccp_alpha=10, n_estimators=70 ...................................\n",
      "[CV] .................... ccp_alpha=10, n_estimators=70, total=   0.5s\n",
      "[CV] ccp_alpha=10, n_estimators=70 ...................................\n",
      "[CV] .................... ccp_alpha=10, n_estimators=70, total=   0.5s\n",
      "[CV] ccp_alpha=10, n_estimators=70 ...................................\n",
      "[CV] .................... ccp_alpha=10, n_estimators=70, total=   0.5s\n",
      "[CV] ccp_alpha=10, n_estimators=100 ..................................\n",
      "[CV] ................... ccp_alpha=10, n_estimators=100, total=   0.7s\n",
      "[CV] ccp_alpha=10, n_estimators=100 ..................................\n",
      "[CV] ................... ccp_alpha=10, n_estimators=100, total=   0.7s\n",
      "[CV] ccp_alpha=10, n_estimators=100 ..................................\n",
      "[CV] ................... ccp_alpha=10, n_estimators=100, total=   0.8s\n",
      "[CV] ccp_alpha=10, n_estimators=100 ..................................\n",
      "[CV] ................... ccp_alpha=10, n_estimators=100, total=   0.7s\n",
      "[CV] ccp_alpha=10, n_estimators=100 ..................................\n",
      "[CV] ................... ccp_alpha=10, n_estimators=100, total=   0.7s\n",
      "[CV] ccp_alpha=10, n_estimators=200 ..................................\n",
      "[CV] ................... ccp_alpha=10, n_estimators=200, total=   1.5s\n",
      "[CV] ccp_alpha=10, n_estimators=200 ..................................\n",
      "[CV] ................... ccp_alpha=10, n_estimators=200, total=   1.5s\n",
      "[CV] ccp_alpha=10, n_estimators=200 ..................................\n",
      "[CV] ................... ccp_alpha=10, n_estimators=200, total=   1.5s\n",
      "[CV] ccp_alpha=10, n_estimators=200 ..................................\n",
      "[CV] ................... ccp_alpha=10, n_estimators=200, total=   1.5s\n",
      "[CV] ccp_alpha=10, n_estimators=200 ..................................\n",
      "[CV] ................... ccp_alpha=10, n_estimators=200, total=   1.4s\n",
      "[CV] ccp_alpha=100, n_estimators=20 ..................................\n",
      "[CV] ................... ccp_alpha=100, n_estimators=20, total=   0.2s\n",
      "[CV] ccp_alpha=100, n_estimators=20 ..................................\n",
      "[CV] ................... ccp_alpha=100, n_estimators=20, total=   0.2s\n",
      "[CV] ccp_alpha=100, n_estimators=20 ..................................\n",
      "[CV] ................... ccp_alpha=100, n_estimators=20, total=   0.2s\n",
      "[CV] ccp_alpha=100, n_estimators=20 ..................................\n",
      "[CV] ................... ccp_alpha=100, n_estimators=20, total=   0.2s\n",
      "[CV] ccp_alpha=100, n_estimators=20 ..................................\n",
      "[CV] ................... ccp_alpha=100, n_estimators=20, total=   0.2s\n",
      "[CV] ccp_alpha=100, n_estimators=25 ..................................\n",
      "[CV] ................... ccp_alpha=100, n_estimators=25, total=   0.2s\n",
      "[CV] ccp_alpha=100, n_estimators=25 ..................................\n",
      "[CV] ................... ccp_alpha=100, n_estimators=25, total=   0.2s\n",
      "[CV] ccp_alpha=100, n_estimators=25 ..................................\n",
      "[CV] ................... ccp_alpha=100, n_estimators=25, total=   0.2s\n",
      "[CV] ccp_alpha=100, n_estimators=25 ..................................\n",
      "[CV] ................... ccp_alpha=100, n_estimators=25, total=   0.2s\n",
      "[CV] ccp_alpha=100, n_estimators=25 ..................................\n"
     ]
    },
    {
     "name": "stdout",
     "output_type": "stream",
     "text": [
      "[CV] ................... ccp_alpha=100, n_estimators=25, total=   0.2s\n",
      "[CV] ccp_alpha=100, n_estimators=30 ..................................\n",
      "[CV] ................... ccp_alpha=100, n_estimators=30, total=   0.2s\n",
      "[CV] ccp_alpha=100, n_estimators=30 ..................................\n",
      "[CV] ................... ccp_alpha=100, n_estimators=30, total=   0.2s\n",
      "[CV] ccp_alpha=100, n_estimators=30 ..................................\n",
      "[CV] ................... ccp_alpha=100, n_estimators=30, total=   0.2s\n",
      "[CV] ccp_alpha=100, n_estimators=30 ..................................\n",
      "[CV] ................... ccp_alpha=100, n_estimators=30, total=   0.2s\n",
      "[CV] ccp_alpha=100, n_estimators=30 ..................................\n",
      "[CV] ................... ccp_alpha=100, n_estimators=30, total=   0.2s\n",
      "[CV] ccp_alpha=100, n_estimators=35 ..................................\n",
      "[CV] ................... ccp_alpha=100, n_estimators=35, total=   0.3s\n",
      "[CV] ccp_alpha=100, n_estimators=35 ..................................\n",
      "[CV] ................... ccp_alpha=100, n_estimators=35, total=   0.3s\n",
      "[CV] ccp_alpha=100, n_estimators=35 ..................................\n",
      "[CV] ................... ccp_alpha=100, n_estimators=35, total=   0.3s\n",
      "[CV] ccp_alpha=100, n_estimators=35 ..................................\n",
      "[CV] ................... ccp_alpha=100, n_estimators=35, total=   0.3s\n",
      "[CV] ccp_alpha=100, n_estimators=35 ..................................\n",
      "[CV] ................... ccp_alpha=100, n_estimators=35, total=   0.3s\n",
      "[CV] ccp_alpha=100, n_estimators=40 ..................................\n",
      "[CV] ................... ccp_alpha=100, n_estimators=40, total=   0.3s\n",
      "[CV] ccp_alpha=100, n_estimators=40 ..................................\n",
      "[CV] ................... ccp_alpha=100, n_estimators=40, total=   0.3s\n",
      "[CV] ccp_alpha=100, n_estimators=40 ..................................\n",
      "[CV] ................... ccp_alpha=100, n_estimators=40, total=   0.3s\n",
      "[CV] ccp_alpha=100, n_estimators=40 ..................................\n",
      "[CV] ................... ccp_alpha=100, n_estimators=40, total=   0.3s\n",
      "[CV] ccp_alpha=100, n_estimators=40 ..................................\n",
      "[CV] ................... ccp_alpha=100, n_estimators=40, total=   0.3s\n",
      "[CV] ccp_alpha=100, n_estimators=50 ..................................\n",
      "[CV] ................... ccp_alpha=100, n_estimators=50, total=   0.4s\n",
      "[CV] ccp_alpha=100, n_estimators=50 ..................................\n",
      "[CV] ................... ccp_alpha=100, n_estimators=50, total=   0.4s\n",
      "[CV] ccp_alpha=100, n_estimators=50 ..................................\n",
      "[CV] ................... ccp_alpha=100, n_estimators=50, total=   0.4s\n",
      "[CV] ccp_alpha=100, n_estimators=50 ..................................\n",
      "[CV] ................... ccp_alpha=100, n_estimators=50, total=   0.4s\n",
      "[CV] ccp_alpha=100, n_estimators=50 ..................................\n",
      "[CV] ................... ccp_alpha=100, n_estimators=50, total=   0.4s\n",
      "[CV] ccp_alpha=100, n_estimators=70 ..................................\n",
      "[CV] ................... ccp_alpha=100, n_estimators=70, total=   0.5s\n",
      "[CV] ccp_alpha=100, n_estimators=70 ..................................\n",
      "[CV] ................... ccp_alpha=100, n_estimators=70, total=   0.5s\n",
      "[CV] ccp_alpha=100, n_estimators=70 ..................................\n",
      "[CV] ................... ccp_alpha=100, n_estimators=70, total=   0.6s\n",
      "[CV] ccp_alpha=100, n_estimators=70 ..................................\n",
      "[CV] ................... ccp_alpha=100, n_estimators=70, total=   0.5s\n",
      "[CV] ccp_alpha=100, n_estimators=70 ..................................\n",
      "[CV] ................... ccp_alpha=100, n_estimators=70, total=   0.5s\n",
      "[CV] ccp_alpha=100, n_estimators=100 .................................\n",
      "[CV] .................. ccp_alpha=100, n_estimators=100, total=   0.8s\n",
      "[CV] ccp_alpha=100, n_estimators=100 .................................\n",
      "[CV] .................. ccp_alpha=100, n_estimators=100, total=   0.8s\n",
      "[CV] ccp_alpha=100, n_estimators=100 .................................\n",
      "[CV] .................. ccp_alpha=100, n_estimators=100, total=   0.8s\n",
      "[CV] ccp_alpha=100, n_estimators=100 .................................\n",
      "[CV] .................. ccp_alpha=100, n_estimators=100, total=   0.8s\n",
      "[CV] ccp_alpha=100, n_estimators=100 .................................\n",
      "[CV] .................. ccp_alpha=100, n_estimators=100, total=   0.8s\n",
      "[CV] ccp_alpha=100, n_estimators=200 .................................\n",
      "[CV] .................. ccp_alpha=100, n_estimators=200, total=   1.5s\n",
      "[CV] ccp_alpha=100, n_estimators=200 .................................\n",
      "[CV] .................. ccp_alpha=100, n_estimators=200, total=   1.6s\n",
      "[CV] ccp_alpha=100, n_estimators=200 .................................\n",
      "[CV] .................. ccp_alpha=100, n_estimators=200, total=   1.5s\n",
      "[CV] ccp_alpha=100, n_estimators=200 .................................\n",
      "[CV] .................. ccp_alpha=100, n_estimators=200, total=   1.5s\n",
      "[CV] ccp_alpha=100, n_estimators=200 .................................\n",
      "[CV] .................. ccp_alpha=100, n_estimators=200, total=   1.5s\n"
     ]
    },
    {
     "name": "stderr",
     "output_type": "stream",
     "text": [
      "[Parallel(n_jobs=1)]: Done 270 out of 270 | elapsed:  2.1min finished\n"
     ]
    },
    {
     "data": {
      "text/plain": [
       "GridSearchCV(estimator=RandomForestRegressor(),\n",
       "             param_grid={'ccp_alpha': [0.001, 0.01, 0.1, 1, 10, 100],\n",
       "                         'n_estimators': [20, 25, 30, 35, 40, 50, 70, 100,\n",
       "                                          200]},\n",
       "             verbose=2)"
      ]
     },
     "execution_count": 87,
     "metadata": {},
     "output_type": "execute_result"
    }
   ],
   "source": [
    "rf_grid.fit(X_train[cols], y_train)"
   ]
  },
  {
   "cell_type": "code",
   "execution_count": 88,
   "metadata": {},
   "outputs": [
    {
     "name": "stdout",
     "output_type": "stream",
     "text": [
      "{'ccp_alpha': 10, 'n_estimators': 70} -0.08383731591379384\n"
     ]
    }
   ],
   "source": [
    "print(rf_grid.best_params_,rf_grid.best_score_)"
   ]
  },
  {
   "cell_type": "code",
   "execution_count": 89,
   "metadata": {},
   "outputs": [],
   "source": [
    "rf_pred = rf_grid.predict(val_X_test[cols])"
   ]
  },
  {
   "cell_type": "code",
   "execution_count": 90,
   "metadata": {},
   "outputs": [
    {
     "data": {
      "text/plain": [
       "1.7257829388919328"
      ]
     },
     "execution_count": 90,
     "metadata": {},
     "output_type": "execute_result"
    }
   ],
   "source": [
    "mean_squared_log_error(rf_pred, val_y_test) ** 0.5"
   ]
  },
  {
   "cell_type": "code",
   "execution_count": 91,
   "metadata": {},
   "outputs": [],
   "source": [
    "save_submission(rf_grid, 'RandomForest_v1')"
   ]
  },
  {
   "cell_type": "code",
   "execution_count": 92,
   "metadata": {},
   "outputs": [],
   "source": [
    "xg_new_col = grid.predict(X_train[cols])\n",
    "rf_new_col = rf_grid.predict(X_train[cols])"
   ]
  },
  {
   "cell_type": "code",
   "execution_count": 93,
   "metadata": {},
   "outputs": [],
   "source": [
    "half_processed_df_train  = X_train.copy()"
   ]
  },
  {
   "cell_type": "code",
   "execution_count": 94,
   "metadata": {},
   "outputs": [],
   "source": [
    "half_processed_df_train['xg_op_pred'] = xg_new_col"
   ]
  },
  {
   "cell_type": "code",
   "execution_count": 95,
   "metadata": {},
   "outputs": [],
   "source": [
    "half_processed_df_train['rf_op_pred'] = rf_new_col"
   ]
  },
  {
   "cell_type": "code",
   "execution_count": 96,
   "metadata": {},
   "outputs": [],
   "source": [
    "half_processed_df_train['time_spent'] = y_train"
   ]
  },
  {
   "cell_type": "code",
   "execution_count": 97,
   "metadata": {},
   "outputs": [
    {
     "data": {
      "text/html": [
       "<div>\n",
       "<style scoped>\n",
       "    .dataframe tbody tr th:only-of-type {\n",
       "        vertical-align: middle;\n",
       "    }\n",
       "\n",
       "    .dataframe tbody tr th {\n",
       "        vertical-align: top;\n",
       "    }\n",
       "\n",
       "    .dataframe thead th {\n",
       "        text-align: right;\n",
       "    }\n",
       "</style>\n",
       "<table border=\"1\" class=\"dataframe\">\n",
       "  <thead>\n",
       "    <tr style=\"text-align: right;\">\n",
       "      <th></th>\n",
       "      <th>session_number</th>\n",
       "      <th>purchased</th>\n",
       "      <th>added_in_cart</th>\n",
       "      <th>checked_out</th>\n",
       "      <th>Android Tablet</th>\n",
       "      <th>Desktop</th>\n",
       "      <th>Other</th>\n",
       "      <th>Unknown</th>\n",
       "      <th>iPad</th>\n",
       "      <th>iPhone</th>\n",
       "      <th>...</th>\n",
       "      <th>Monday</th>\n",
       "      <th>Saturday</th>\n",
       "      <th>Sunday</th>\n",
       "      <th>Thursday</th>\n",
       "      <th>Tuesday</th>\n",
       "      <th>Wednesday</th>\n",
       "      <th>2020</th>\n",
       "      <th>xg_op_pred</th>\n",
       "      <th>rf_op_pred</th>\n",
       "      <th>time_spent</th>\n",
       "    </tr>\n",
       "  </thead>\n",
       "  <tbody>\n",
       "    <tr>\n",
       "      <th>0</th>\n",
       "      <td>715</td>\n",
       "      <td>1</td>\n",
       "      <td>0</td>\n",
       "      <td>0</td>\n",
       "      <td>0</td>\n",
       "      <td>1</td>\n",
       "      <td>0</td>\n",
       "      <td>0</td>\n",
       "      <td>0</td>\n",
       "      <td>0</td>\n",
       "      <td>...</td>\n",
       "      <td>0</td>\n",
       "      <td>0</td>\n",
       "      <td>0</td>\n",
       "      <td>0</td>\n",
       "      <td>0</td>\n",
       "      <td>1</td>\n",
       "      <td>1</td>\n",
       "      <td>869.788086</td>\n",
       "      <td>266.326321</td>\n",
       "      <td>236.886</td>\n",
       "    </tr>\n",
       "    <tr>\n",
       "      <th>1</th>\n",
       "      <td>55</td>\n",
       "      <td>1</td>\n",
       "      <td>0</td>\n",
       "      <td>0</td>\n",
       "      <td>0</td>\n",
       "      <td>0</td>\n",
       "      <td>0</td>\n",
       "      <td>0</td>\n",
       "      <td>0</td>\n",
       "      <td>1</td>\n",
       "      <td>...</td>\n",
       "      <td>0</td>\n",
       "      <td>0</td>\n",
       "      <td>0</td>\n",
       "      <td>1</td>\n",
       "      <td>0</td>\n",
       "      <td>0</td>\n",
       "      <td>1</td>\n",
       "      <td>1020.765442</td>\n",
       "      <td>977.369193</td>\n",
       "      <td>1277.455</td>\n",
       "    </tr>\n",
       "    <tr>\n",
       "      <th>2</th>\n",
       "      <td>11</td>\n",
       "      <td>0</td>\n",
       "      <td>0</td>\n",
       "      <td>0</td>\n",
       "      <td>0</td>\n",
       "      <td>0</td>\n",
       "      <td>0</td>\n",
       "      <td>0</td>\n",
       "      <td>0</td>\n",
       "      <td>1</td>\n",
       "      <td>...</td>\n",
       "      <td>0</td>\n",
       "      <td>0</td>\n",
       "      <td>0</td>\n",
       "      <td>1</td>\n",
       "      <td>0</td>\n",
       "      <td>0</td>\n",
       "      <td>0</td>\n",
       "      <td>271.388092</td>\n",
       "      <td>224.290459</td>\n",
       "      <td>21.704</td>\n",
       "    </tr>\n",
       "    <tr>\n",
       "      <th>3</th>\n",
       "      <td>2794</td>\n",
       "      <td>0</td>\n",
       "      <td>1</td>\n",
       "      <td>0</td>\n",
       "      <td>0</td>\n",
       "      <td>1</td>\n",
       "      <td>0</td>\n",
       "      <td>0</td>\n",
       "      <td>0</td>\n",
       "      <td>0</td>\n",
       "      <td>...</td>\n",
       "      <td>1</td>\n",
       "      <td>0</td>\n",
       "      <td>0</td>\n",
       "      <td>0</td>\n",
       "      <td>0</td>\n",
       "      <td>0</td>\n",
       "      <td>0</td>\n",
       "      <td>1313.961182</td>\n",
       "      <td>603.241259</td>\n",
       "      <td>455.201</td>\n",
       "    </tr>\n",
       "    <tr>\n",
       "      <th>4</th>\n",
       "      <td>3674</td>\n",
       "      <td>0</td>\n",
       "      <td>0</td>\n",
       "      <td>0</td>\n",
       "      <td>0</td>\n",
       "      <td>0</td>\n",
       "      <td>0</td>\n",
       "      <td>0</td>\n",
       "      <td>0</td>\n",
       "      <td>1</td>\n",
       "      <td>...</td>\n",
       "      <td>0</td>\n",
       "      <td>0</td>\n",
       "      <td>0</td>\n",
       "      <td>0</td>\n",
       "      <td>1</td>\n",
       "      <td>0</td>\n",
       "      <td>0</td>\n",
       "      <td>727.250183</td>\n",
       "      <td>344.108502</td>\n",
       "      <td>1164.877</td>\n",
       "    </tr>\n",
       "  </tbody>\n",
       "</table>\n",
       "<p>5 rows × 32 columns</p>\n",
       "</div>"
      ],
      "text/plain": [
       "   session_number  purchased  added_in_cart  checked_out  Android Tablet  \\\n",
       "0             715          1              0            0               0   \n",
       "1              55          1              0            0               0   \n",
       "2              11          0              0            0               0   \n",
       "3            2794          0              1            0               0   \n",
       "4            3674          0              0            0               0   \n",
       "\n",
       "   Desktop  Other  Unknown  iPad  iPhone  ...  Monday  Saturday  Sunday  \\\n",
       "0        1      0        0     0       0  ...       0         0       0   \n",
       "1        0      0        0     0       1  ...       0         0       0   \n",
       "2        0      0        0     0       1  ...       0         0       0   \n",
       "3        1      0        0     0       0  ...       1         0       0   \n",
       "4        0      0        0     0       1  ...       0         0       0   \n",
       "\n",
       "   Thursday  Tuesday  Wednesday  2020   xg_op_pred  rf_op_pred  time_spent  \n",
       "0         0        0          1     1   869.788086  266.326321     236.886  \n",
       "1         1        0          0     1  1020.765442  977.369193    1277.455  \n",
       "2         1        0          0     0   271.388092  224.290459      21.704  \n",
       "3         0        0          0     0  1313.961182  603.241259     455.201  \n",
       "4         0        1          0     0   727.250183  344.108502    1164.877  \n",
       "\n",
       "[5 rows x 32 columns]"
      ]
     },
     "execution_count": 97,
     "metadata": {},
     "output_type": "execute_result"
    }
   ],
   "source": [
    "half_processed_df_train.head()"
   ]
  },
  {
   "cell_type": "code",
   "execution_count": 98,
   "metadata": {},
   "outputs": [],
   "source": [
    "half_processed_df_train.to_csv('half_processed_train.csv')"
   ]
  },
  {
   "cell_type": "code",
   "execution_count": 100,
   "metadata": {},
   "outputs": [],
   "source": [
    "X_test['xg_op_pred'] = grid.predict(X_test[cols])\n",
    "X_test['rf_op_pred'] = rf_grid.predict(X_test[cols])"
   ]
  },
  {
   "cell_type": "code",
   "execution_count": 101,
   "metadata": {},
   "outputs": [
    {
     "data": {
      "text/html": [
       "<div>\n",
       "<style scoped>\n",
       "    .dataframe tbody tr th:only-of-type {\n",
       "        vertical-align: middle;\n",
       "    }\n",
       "\n",
       "    .dataframe tbody tr th {\n",
       "        vertical-align: top;\n",
       "    }\n",
       "\n",
       "    .dataframe thead th {\n",
       "        text-align: right;\n",
       "    }\n",
       "</style>\n",
       "<table border=\"1\" class=\"dataframe\">\n",
       "  <thead>\n",
       "    <tr style=\"text-align: right;\">\n",
       "      <th></th>\n",
       "      <th>session_number</th>\n",
       "      <th>purchased</th>\n",
       "      <th>added_in_cart</th>\n",
       "      <th>checked_out</th>\n",
       "      <th>Android Tablet</th>\n",
       "      <th>Desktop</th>\n",
       "      <th>Other</th>\n",
       "      <th>Unknown</th>\n",
       "      <th>iPad</th>\n",
       "      <th>iPhone</th>\n",
       "      <th>...</th>\n",
       "      <th>September</th>\n",
       "      <th>Monday</th>\n",
       "      <th>Saturday</th>\n",
       "      <th>Sunday</th>\n",
       "      <th>Thursday</th>\n",
       "      <th>Tuesday</th>\n",
       "      <th>Wednesday</th>\n",
       "      <th>2020</th>\n",
       "      <th>xg_op_pred</th>\n",
       "      <th>rf_op_pred</th>\n",
       "    </tr>\n",
       "  </thead>\n",
       "  <tbody>\n",
       "    <tr>\n",
       "      <th>0</th>\n",
       "      <td>99</td>\n",
       "      <td>1</td>\n",
       "      <td>0</td>\n",
       "      <td>0</td>\n",
       "      <td>0</td>\n",
       "      <td>1</td>\n",
       "      <td>0</td>\n",
       "      <td>0</td>\n",
       "      <td>0</td>\n",
       "      <td>0</td>\n",
       "      <td>...</td>\n",
       "      <td>0</td>\n",
       "      <td>0</td>\n",
       "      <td>0</td>\n",
       "      <td>0</td>\n",
       "      <td>0</td>\n",
       "      <td>0</td>\n",
       "      <td>1</td>\n",
       "      <td>1</td>\n",
       "      <td>1155.637939</td>\n",
       "      <td>1386.513031</td>\n",
       "    </tr>\n",
       "    <tr>\n",
       "      <th>1</th>\n",
       "      <td>935</td>\n",
       "      <td>0</td>\n",
       "      <td>0</td>\n",
       "      <td>0</td>\n",
       "      <td>0</td>\n",
       "      <td>0</td>\n",
       "      <td>0</td>\n",
       "      <td>0</td>\n",
       "      <td>0</td>\n",
       "      <td>0</td>\n",
       "      <td>...</td>\n",
       "      <td>0</td>\n",
       "      <td>0</td>\n",
       "      <td>0</td>\n",
       "      <td>0</td>\n",
       "      <td>1</td>\n",
       "      <td>0</td>\n",
       "      <td>0</td>\n",
       "      <td>1</td>\n",
       "      <td>269.258789</td>\n",
       "      <td>202.417602</td>\n",
       "    </tr>\n",
       "    <tr>\n",
       "      <th>2</th>\n",
       "      <td>902</td>\n",
       "      <td>1</td>\n",
       "      <td>0</td>\n",
       "      <td>0</td>\n",
       "      <td>0</td>\n",
       "      <td>0</td>\n",
       "      <td>0</td>\n",
       "      <td>0</td>\n",
       "      <td>0</td>\n",
       "      <td>1</td>\n",
       "      <td>...</td>\n",
       "      <td>0</td>\n",
       "      <td>0</td>\n",
       "      <td>0</td>\n",
       "      <td>0</td>\n",
       "      <td>1</td>\n",
       "      <td>0</td>\n",
       "      <td>0</td>\n",
       "      <td>0</td>\n",
       "      <td>1718.168579</td>\n",
       "      <td>6726.435268</td>\n",
       "    </tr>\n",
       "    <tr>\n",
       "      <th>3</th>\n",
       "      <td>3223</td>\n",
       "      <td>0</td>\n",
       "      <td>0</td>\n",
       "      <td>0</td>\n",
       "      <td>0</td>\n",
       "      <td>1</td>\n",
       "      <td>0</td>\n",
       "      <td>0</td>\n",
       "      <td>0</td>\n",
       "      <td>0</td>\n",
       "      <td>...</td>\n",
       "      <td>0</td>\n",
       "      <td>1</td>\n",
       "      <td>0</td>\n",
       "      <td>0</td>\n",
       "      <td>0</td>\n",
       "      <td>0</td>\n",
       "      <td>0</td>\n",
       "      <td>1</td>\n",
       "      <td>665.888062</td>\n",
       "      <td>61.966876</td>\n",
       "    </tr>\n",
       "    <tr>\n",
       "      <th>4</th>\n",
       "      <td>231</td>\n",
       "      <td>0</td>\n",
       "      <td>0</td>\n",
       "      <td>0</td>\n",
       "      <td>0</td>\n",
       "      <td>1</td>\n",
       "      <td>0</td>\n",
       "      <td>0</td>\n",
       "      <td>0</td>\n",
       "      <td>0</td>\n",
       "      <td>...</td>\n",
       "      <td>0</td>\n",
       "      <td>0</td>\n",
       "      <td>0</td>\n",
       "      <td>0</td>\n",
       "      <td>0</td>\n",
       "      <td>1</td>\n",
       "      <td>0</td>\n",
       "      <td>1</td>\n",
       "      <td>308.017212</td>\n",
       "      <td>250.347007</td>\n",
       "    </tr>\n",
       "  </tbody>\n",
       "</table>\n",
       "<p>5 rows × 31 columns</p>\n",
       "</div>"
      ],
      "text/plain": [
       "   session_number  purchased  added_in_cart  checked_out  Android Tablet  \\\n",
       "0              99          1              0            0               0   \n",
       "1             935          0              0            0               0   \n",
       "2             902          1              0            0               0   \n",
       "3            3223          0              0            0               0   \n",
       "4             231          0              0            0               0   \n",
       "\n",
       "   Desktop  Other  Unknown  iPad  iPhone  ...  September  Monday  Saturday  \\\n",
       "0        1      0        0     0       0  ...          0       0         0   \n",
       "1        0      0        0     0       0  ...          0       0         0   \n",
       "2        0      0        0     0       1  ...          0       0         0   \n",
       "3        1      0        0     0       0  ...          0       1         0   \n",
       "4        1      0        0     0       0  ...          0       0         0   \n",
       "\n",
       "   Sunday  Thursday  Tuesday  Wednesday  2020   xg_op_pred   rf_op_pred  \n",
       "0       0         0        0          1     1  1155.637939  1386.513031  \n",
       "1       0         1        0          0     1   269.258789   202.417602  \n",
       "2       0         1        0          0     0  1718.168579  6726.435268  \n",
       "3       0         0        0          0     1   665.888062    61.966876  \n",
       "4       0         0        1          0     1   308.017212   250.347007  \n",
       "\n",
       "[5 rows x 31 columns]"
      ]
     },
     "execution_count": 101,
     "metadata": {},
     "output_type": "execute_result"
    }
   ],
   "source": [
    "X_test.head()"
   ]
  },
  {
   "cell_type": "code",
   "execution_count": 102,
   "metadata": {},
   "outputs": [],
   "source": [
    "X_test.to_csv('processes_X_test.csv')"
   ]
  }
 ],
 "metadata": {
  "kernelspec": {
   "display_name": "Python 3",
   "language": "python",
   "name": "python3"
  },
  "language_info": {
   "codemirror_mode": {
    "name": "ipython",
    "version": 3
   },
   "file_extension": ".py",
   "mimetype": "text/x-python",
   "name": "python",
   "nbconvert_exporter": "python",
   "pygments_lexer": "ipython3",
   "version": "3.6.12"
  }
 },
 "nbformat": 4,
 "nbformat_minor": 4
}

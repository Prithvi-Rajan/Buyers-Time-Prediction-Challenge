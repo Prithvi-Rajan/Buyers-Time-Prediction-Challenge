{
 "cells": [
  {
   "cell_type": "code",
   "execution_count": 1,
   "metadata": {},
   "outputs": [],
   "source": [
    "import pandas as pd\n",
    "import numpy as np\n",
    "import matplotlib.pyplot as plt\n",
    "import seaborn as sns\n",
    "%matplotlib inline"
   ]
  },
  {
   "cell_type": "code",
   "execution_count": 2,
   "metadata": {},
   "outputs": [],
   "source": [
    "train = pd.read_csv('../Data/half_processed_train.csv')\n",
    "test = pd.read_csv('../Data/processes_X_test.csv')"
   ]
  },
  {
   "cell_type": "code",
   "execution_count": 3,
   "metadata": {},
   "outputs": [],
   "source": [
    "from sklearn.metrics import mean_squared_log_error, mean_absolute_error\n",
    "from xgboost import XGBRegressor"
   ]
  },
  {
   "cell_type": "code",
   "execution_count": 4,
   "metadata": {},
   "outputs": [],
   "source": [
    "X_train = train.drop(['xg_op_pred', 'rf_op_pred', 'time_spent'], axis=1)\n",
    "y_train = train['time_spent']"
   ]
  },
  {
   "cell_type": "code",
   "execution_count": 5,
   "metadata": {},
   "outputs": [],
   "source": [
    "from sklearn.model_selection import train_test_split\n",
    "val_X_train, val_X_test, val_y_train, val_y_test = train_test_split(X_train, y_train, test_size=0.3)"
   ]
  },
  {
   "cell_type": "raw",
   "metadata": {},
   "source": [
    "val_X_train.columns\n",
    "\n",
    "['Unnamed: 0', 'session_number', 'purchased', 'added_in_cart',\n",
    "       'checked_out', 'Android Tablet', 'Desktop', 'Other', 'Unknown', 'iPad',\n",
    "       'iPhone', 'app', 'August', 'December', 'February', 'January', 'July',\n",
    "       'June', 'March', 'May', 'November', 'October', 'September', 'Monday',\n",
    "       'Saturday', 'Sunday', 'Thursday', 'Tuesday', 'Wednesday', '2020']"
   ]
  },
  {
   "cell_type": "code",
   "execution_count": 6,
   "metadata": {},
   "outputs": [
    {
     "data": {
      "text/plain": [
       "30"
      ]
     },
     "execution_count": 6,
     "metadata": {},
     "output_type": "execute_result"
    }
   ],
   "source": [
    "# cols = ['session_number', 'purchased', 'added_in_cart', 'checked_out', 'app', 'iPhone', 'Android Tablet', 'Desktop', 'Other', 'Unknown', 'iPad']\n",
    "\n",
    "cols = val_X_train.columns\n",
    "len(cols)"
   ]
  },
  {
   "cell_type": "code",
   "execution_count": 7,
   "metadata": {},
   "outputs": [],
   "source": [
    "op_log = []\n",
    "training_loss = []"
   ]
  },
  {
   "cell_type": "code",
   "execution_count": 11,
   "metadata": {},
   "outputs": [
    {
     "name": "stdout",
     "output_type": "stream",
     "text": [
      "   Training Loss  Validation Loss     Delta\n",
      "0       1.663705         1.656192  0.007514\n",
      "1       1.663705         1.656192  0.007514\n",
      "2       1.613032         1.634048  0.021016\n"
     ]
    }
   ],
   "source": [
    "xg_r = XGBRegressor(n_estimators= 120, \n",
    "                    learning_rate= .01,\n",
    "                    max_depth = 5, \n",
    "                    booster='gbtree', \n",
    "#                     min_child_weight = 1,\n",
    "                    reg_alpha = 1000,\n",
    "                    reg_lambda = 50)\n",
    "\n",
    "xg_r.fit(val_X_train[cols], val_y_train,eval_metric='rmsle', eval_set=[(val_X_test[cols], val_y_test)], verbose=0)\n",
    "\n",
    "\n",
    "if len(op_log) < 5 :\n",
    "    op_log.append(np.sqrt(mean_squared_log_error(abs(xg_r.predict(val_X_test[cols])), val_y_test)))\n",
    "else:\n",
    "    op_log.pop(0)\n",
    "    op_log.append(np.sqrt(mean_squared_log_error(abs(xg_r.predict(val_X_test[cols])), val_y_test)))\n",
    "    \n",
    "if len(training_loss) < 5 :\n",
    "    training_loss.append(np.sqrt(mean_squared_log_error(abs(xg_r.predict(val_X_train[cols])), val_y_train)))\n",
    "else:\n",
    "    training_loss.pop(0)\n",
    "    training_loss.append(np.sqrt(mean_squared_log_error(abs(xg_r.predict(val_X_train[cols])), val_y_train)))\n",
    "    \n",
    "op_df = pd.DataFrame(columns=['Training Loss', 'Validation Loss'])\n",
    "op_df['Training Loss'] = np.array(training_loss)\n",
    "op_df['Validation Loss'] = np.array(op_log)\n",
    "op_df['Delta'] = abs(np.array(op_log) - np.array(training_loss))\n",
    "\n",
    "print(op_df)"
   ]
  },
  {
   "cell_type": "code",
   "execution_count": 9,
   "metadata": {},
   "outputs": [
    {
     "name": "stdout",
     "output_type": "stream",
     "text": [
      "193 1629\n"
     ]
    }
   ],
   "source": [
    "print(pd.Series(xg_r.predict(val_X_test[cols])).nunique(),len(xg_r.predict(val_X_test[cols])))"
   ]
  },
  {
   "cell_type": "code",
   "execution_count": 10,
   "metadata": {},
   "outputs": [],
   "source": [
    "def save_submission(estimator, name):\n",
    "    pred = estimator.predict(test[cols])\n",
    "    sub = pd.read_csv('../Data/Sample Submission.csv')\n",
    "    sub[\"time_spent\"]=abs(pred)\n",
    "    sub.to_csv('../Submissions/'+name+'.csv', index=False)"
   ]
  },
  {
   "cell_type": "code",
   "execution_count": 112,
   "metadata": {},
   "outputs": [],
   "source": [
    "save_submission(xg_r, 'XGB_Manual_CV_'+str(op_log[-1]))"
   ]
  },
  {
   "cell_type": "code",
   "execution_count": 113,
   "metadata": {},
   "outputs": [],
   "source": [
    "xg_r.save_model(fname='XGB_Manual_CV_'+str(op_log[-1]))"
   ]
  },
  {
   "cell_type": "code",
   "execution_count": null,
   "metadata": {},
   "outputs": [],
   "source": []
  }
 ],
 "metadata": {
  "kernelspec": {
   "display_name": "Python 3",
   "language": "python",
   "name": "python3"
  },
  "language_info": {
   "codemirror_mode": {
    "name": "ipython",
    "version": 3
   },
   "file_extension": ".py",
   "mimetype": "text/x-python",
   "name": "python",
   "nbconvert_exporter": "python",
   "pygments_lexer": "ipython3",
   "version": "3.6.12"
  }
 },
 "nbformat": 4,
 "nbformat_minor": 4
}

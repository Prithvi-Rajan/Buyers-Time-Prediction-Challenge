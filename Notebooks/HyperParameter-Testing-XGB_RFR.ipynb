{
 "cells": [
  {
   "cell_type": "code",
   "execution_count": 1,
   "metadata": {},
   "outputs": [],
   "source": [
    "import pandas as pd\n",
    "import numpy as np\n",
    "import matplotlib.pyplot as plt\n",
    "import seaborn as sns\n",
    "%matplotlib inline"
   ]
  },
  {
   "cell_type": "code",
   "execution_count": 2,
   "metadata": {},
   "outputs": [],
   "source": [
    "train = pd.read_csv('../Data/half_processed_train.csv')\n",
    "test = pd.read_csv('../Data/processes_X_test.csv')"
   ]
  },
  {
   "cell_type": "code",
   "execution_count": 3,
   "metadata": {},
   "outputs": [],
   "source": [
    "from sklearn.metrics import mean_squared_log_error, mean_absolute_error\n",
    "from xgboost import XGBRegressor\n",
    "from sklearn.ensemble import RandomForestRegressor\n",
    "from sklearn.model_selection import GridSearchCV"
   ]
  },
  {
   "cell_type": "code",
   "execution_count": 4,
   "metadata": {},
   "outputs": [],
   "source": [
    "xgbr = XGBRegressor()\n",
    "rfr = RandomForestRegressor()"
   ]
  },
  {
   "cell_type": "code",
   "execution_count": 5,
   "metadata": {},
   "outputs": [],
   "source": [
    "xgbr_params = {'n_estimators' : [10,20,30,40,50,60,70],\n",
    "               'min_child_weight' : [1, 10, 20, 30], \n",
    "               'max_depth' : [2, 3, 4 ,5, 6, 7],\n",
    "               'booster' : ['gbtree'],\n",
    "               'eval_metric' : ['rmsle'],\n",
    "               'eta' : [0.01, 0.05, 0.1, 0.2]               \n",
    "}"
   ]
  },
  {
   "cell_type": "raw",
   "metadata": {},
   "source": [
    "rfr_params ={'n_estimators' : [10,20,30,40,50,60,70],\n",
    "             'max_features' : ['auto', 'sqrt'],\n",
    "             'min_samples_split' : [3, 4, 5, 6, 10],\n",
    "             'min_samples_leaf' : [1, 2, 4, 7, 9],\n",
    "             'max_depth' : [10, 20, 30, 40, 50, 60, 70, 80, 90, 100, None]\n",
    "}"
   ]
  },
  {
   "cell_type": "code",
   "execution_count": 6,
   "metadata": {},
   "outputs": [],
   "source": [
    "xgbr_grid = GridSearchCV(param_grid=xgbr_params, estimator=xgbr, verbose=1)"
   ]
  },
  {
   "cell_type": "raw",
   "metadata": {},
   "source": [
    "rfr_grid = GridSearchCV(param_grid=rfr_params, estimator=rfr, verbose=1)"
   ]
  },
  {
   "cell_type": "raw",
   "metadata": {},
   "source": [
    "train.columns\n",
    "['Unnamed: 0', 'session_number', 'purchased', 'added_in_cart',\n",
    "       'checked_out', 'Android Tablet', 'Desktop', 'Other', 'Unknown', 'iPad',\n",
    "       'iPhone', 'app', 'August', 'December', 'February', 'January', 'July',\n",
    "       'June', 'March', 'May', 'November', 'October', 'September', 'Monday',\n",
    "       'Saturday', 'Sunday', 'Thursday', 'Tuesday', 'Wednesday', '2020',\n",
    "       'xg_op_pred', 'rf_op_pred', 'time_spent']"
   ]
  },
  {
   "cell_type": "code",
   "execution_count": 7,
   "metadata": {},
   "outputs": [],
   "source": [
    "X_train = train.drop(['xg_op_pred', 'rf_op_pred', 'time_spent'], axis=1)\n",
    "y_train = train['time_spent']"
   ]
  },
  {
   "cell_type": "code",
   "execution_count": 8,
   "metadata": {
    "scrolled": true
   },
   "outputs": [],
   "source": [
    "from sklearn.model_selection import train_test_split\n",
    "val_X_train, val_X_test, val_y_train, val_y_test = train_test_split(X_train, y_train, test_size=0.15)"
   ]
  },
  {
   "cell_type": "code",
   "execution_count": 9,
   "metadata": {},
   "outputs": [],
   "source": [
    "cols = ['session_number', 'purchased', 'added_in_cart', 'checked_out', 'app']"
   ]
  },
  {
   "cell_type": "code",
   "execution_count": 10,
   "metadata": {},
   "outputs": [
    {
     "name": "stdout",
     "output_type": "stream",
     "text": [
      "Fitting 5 folds for each of 672 candidates, totalling 3360 fits\n"
     ]
    },
    {
     "name": "stderr",
     "output_type": "stream",
     "text": [
      "[Parallel(n_jobs=1)]: Using backend SequentialBackend with 1 concurrent workers.\n",
      "[Parallel(n_jobs=1)]: Done 3360 out of 3360 | elapsed:  5.4min finished\n"
     ]
    },
    {
     "data": {
      "text/plain": [
       "GridSearchCV(estimator=XGBRegressor(base_score=None, booster=None,\n",
       "                                    colsample_bylevel=None,\n",
       "                                    colsample_bynode=None,\n",
       "                                    colsample_bytree=None, gamma=None,\n",
       "                                    gpu_id=None, importance_type='gain',\n",
       "                                    interaction_constraints=None,\n",
       "                                    learning_rate=None, max_delta_step=None,\n",
       "                                    max_depth=None, min_child_weight=None,\n",
       "                                    missing=nan, monotone_constraints=None,\n",
       "                                    n_estimators=100, n_jobs=None,\n",
       "                                    num_parallel_tree=None, random_state=None,\n",
       "                                    reg_alpha=None, reg_lambda=None,\n",
       "                                    scale_pos_weight=None, subsample=None,\n",
       "                                    tree_method=None, validate_parameters=None,\n",
       "                                    verbosity=None),\n",
       "             param_grid={'booster': ['gbtree'], 'eta': [0.01, 0.05, 0.1, 0.2],\n",
       "                         'eval_metric': ['rmsle'],\n",
       "                         'max_depth': [2, 3, 4, 5, 6, 7],\n",
       "                         'min_child_weight': [1, 10, 20, 30],\n",
       "                         'n_estimators': [10, 20, 30, 40, 50, 60, 70]},\n",
       "             verbose=1)"
      ]
     },
     "execution_count": 10,
     "metadata": {},
     "output_type": "execute_result"
    }
   ],
   "source": [
    "xgbr_grid.fit(val_X_train[cols], val_y_train)"
   ]
  },
  {
   "cell_type": "raw",
   "metadata": {},
   "source": [
    "rfr_grid.fit(val_X_train[cols], val_y_train)"
   ]
  },
  {
   "cell_type": "code",
   "execution_count": 11,
   "metadata": {},
   "outputs": [
    {
     "data": {
      "text/plain": [
       "{'booster': 'gbtree',\n",
       " 'eta': 0.1,\n",
       " 'eval_metric': 'rmsle',\n",
       " 'max_depth': 2,\n",
       " 'min_child_weight': 30,\n",
       " 'n_estimators': 50}"
      ]
     },
     "execution_count": 11,
     "metadata": {},
     "output_type": "execute_result"
    }
   ],
   "source": [
    "xgbr_grid.best_params_"
   ]
  },
  {
   "cell_type": "raw",
   "metadata": {},
   "source": [
    "rfr_grid.best_params_"
   ]
  },
  {
   "cell_type": "code",
   "execution_count": 12,
   "metadata": {},
   "outputs": [],
   "source": [
    "xgbr_val_y_pred = xgbr_grid.predict(val_X_test[cols])"
   ]
  },
  {
   "cell_type": "raw",
   "metadata": {},
   "source": [
    "rfr_val_y_pred = rfr_grid.predict(val_X_test[cols])"
   ]
  },
  {
   "cell_type": "code",
   "execution_count": 13,
   "metadata": {
    "scrolled": true
   },
   "outputs": [
    {
     "name": "stdout",
     "output_type": "stream",
     "text": [
      "XGBR:  2.038456803414801\n"
     ]
    }
   ],
   "source": [
    "print('XGBR: ', np.sqrt(mean_squared_log_error(abs(xgbr_val_y_pred), val_y_test)))\n",
    "# print('RFR: ', np.sqrt(mean_squared_log_error(rfr_val_y_pred, val_y_test)))"
   ]
  },
  {
   "cell_type": "raw",
   "metadata": {},
   "source": [
    "train.columns\n",
    "['Unnamed: 0', 'session_number', 'purchased', 'added_in_cart',\n",
    "       'checked_out', 'Android Tablet', 'Desktop', 'Other', 'Unknown', 'iPad',\n",
    "       'iPhone', 'app', 'August', 'December', 'February', 'January', 'July',\n",
    "       'June', 'March', 'May', 'November', 'October', 'September', 'Monday',\n",
    "       'Saturday', 'Sunday', 'Thursday', 'Tuesday', 'Wednesday', '2020',\n",
    "       'xg_op_pred', 'rf_op_pred', 'time_spent']"
   ]
  },
  {
   "cell_type": "code",
   "execution_count": 53,
   "metadata": {},
   "outputs": [
    {
     "name": "stdout",
     "output_type": "stream",
     "text": [
      "XGBR:  1.6680975021894295\n"
     ]
    }
   ],
   "source": [
    "xcols = ['session_number', 'purchased', 'added_in_cart', 'checked_out', 'app', 'iPhone']\n",
    "xg_r = XGBRegressor(n_estimators=  32, \n",
    "                    learning_rate= .01,\n",
    "                    max_depth=2, \n",
    "                    booster='gbtree', \n",
    "                    min_child_weight = 1,\n",
    "#                     reg_alpha = 1000,\n",
    "                    reg_lambda = 600)\n",
    "\n",
    "xg_r.fit(val_X_train[xcols], val_y_train,eval_metric='rmsle', eval_set=[(val_X_test[xcols], val_y_test)], verbose=0)\n",
    "print('XGBR: ', np.sqrt(mean_squared_log_error(abs(xg_r.predict(val_X_test[xcols])), val_y_test)))\n",
    "\n",
    "# 1.5369333665150438"
   ]
  },
  {
   "cell_type": "code",
   "execution_count": 30,
   "metadata": {},
   "outputs": [],
   "source": [
    "def save_submission(estimator, name):\n",
    "    pred = estimator.predict(test[xcols])\n",
    "    sub = pd.read_csv('../Data/Sample Submission.csv')\n",
    "    sub[\"time_spent\"]=abs(pred)\n",
    "    sub.to_csv('../Submissions/'+name+'.csv', index=False)\n",
    "#     estimator.save_model('Models/'+name)"
   ]
  },
  {
   "cell_type": "code",
   "execution_count": 51,
   "metadata": {},
   "outputs": [],
   "source": [
    "save_submission(xg_r, 'XGB_Manual_CV_1.627560542831945')"
   ]
  },
  {
   "cell_type": "code",
   "execution_count": 52,
   "metadata": {},
   "outputs": [],
   "source": [
    "xg_r.save_model(fname='XGB_Manual_CV_1.627560542831945')"
   ]
  },
  {
   "cell_type": "raw",
   "metadata": {},
   "source": [
    "trained_xgb = train.copy()"
   ]
  },
  {
   "cell_type": "raw",
   "metadata": {},
   "source": [
    "trained_xgb['trained_xgb_op'] = xg_r.predict(train[cols])"
   ]
  },
  {
   "cell_type": "raw",
   "metadata": {},
   "source": [
    "testing_xgb = test.copy()"
   ]
  },
  {
   "cell_type": "raw",
   "metadata": {},
   "source": [
    "testing_xgb['trained_xgb_op'] = xg_r.predict(test[cols])"
   ]
  },
  {
   "cell_type": "raw",
   "metadata": {},
   "source": [
    "testing_xgb.to_csv('test_Best_XGB')"
   ]
  },
  {
   "cell_type": "raw",
   "metadata": {},
   "source": [
    "trained_xgb.to_csv('train_Best_XGB')"
   ]
  },
  {
   "cell_type": "code",
   "execution_count": null,
   "metadata": {},
   "outputs": [],
   "source": []
  }
 ],
 "metadata": {
  "kernelspec": {
   "display_name": "Python 3",
   "language": "python",
   "name": "python3"
  },
  "language_info": {
   "codemirror_mode": {
    "name": "ipython",
    "version": 3
   },
   "file_extension": ".py",
   "mimetype": "text/x-python",
   "name": "python",
   "nbconvert_exporter": "python",
   "pygments_lexer": "ipython3",
   "version": "3.6.12"
  }
 },
 "nbformat": 4,
 "nbformat_minor": 4
}

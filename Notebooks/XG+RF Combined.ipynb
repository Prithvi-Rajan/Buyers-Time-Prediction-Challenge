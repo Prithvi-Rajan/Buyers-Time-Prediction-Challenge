{
 "cells": [
  {
   "cell_type": "code",
   "execution_count": 1,
   "metadata": {},
   "outputs": [],
   "source": [
    "import pandas as pd\n",
    "import numpy as np\n",
    "import matplotlib.pyplot as plt\n",
    "import seaborn as sns\n",
    "%matplotlib inline"
   ]
  },
  {
   "cell_type": "code",
   "execution_count": 2,
   "metadata": {},
   "outputs": [],
   "source": [
    "train = pd.read_csv('../Data/half_processed_train.csv')\n",
    "test = pd.read_csv('../Data/processes_X_test.csv')"
   ]
  },
  {
   "cell_type": "code",
   "execution_count": 3,
   "metadata": {},
   "outputs": [],
   "source": [
    "# train.corr()['time_spent'].sort_values()[:-1]"
   ]
  },
  {
   "cell_type": "code",
   "execution_count": 4,
   "metadata": {},
   "outputs": [],
   "source": [
    "X_train = train.drop('time_spent', axis=1)\n",
    "y_train = train['time_spent']"
   ]
  },
  {
   "cell_type": "code",
   "execution_count": 5,
   "metadata": {},
   "outputs": [
    {
     "name": "stderr",
     "output_type": "stream",
     "text": [
      "Using TensorFlow backend.\n"
     ]
    }
   ],
   "source": [
    "from keras.layers import Dense, Dropout\n",
    "from keras.models import Sequential\n",
    "from keras.callbacks import EarlyStopping"
   ]
  },
  {
   "cell_type": "code",
   "execution_count": 6,
   "metadata": {},
   "outputs": [],
   "source": [
    "from sklearn.model_selection import train_test_split\n",
    "val_X_train, val_X_test, val_y_train, val_y_test = train_test_split(X_train, y_train, test_size=0.3)"
   ]
  },
  {
   "cell_type": "raw",
   "metadata": {},
   "source": [
    "X_train.columns\n",
    "['Unnamed: 0', 'session_number', 'purchased', 'added_in_cart',\n",
    "       'checked_out', 'Android Tablet', 'Desktop', 'Other', 'Unknown', 'iPad',\n",
    "       'iPhone', 'app', 'August', 'December', 'February', 'January', 'July',\n",
    "       'June', 'March', 'May', 'November', 'October', 'September', 'Monday',\n",
    "       'Saturday', 'Sunday', 'Thursday', 'Tuesday', 'Wednesday', '2020',\n",
    "       'xg_op_pred', 'rf_op_pred']"
   ]
  },
  {
   "cell_type": "code",
   "execution_count": 7,
   "metadata": {},
   "outputs": [
    {
     "data": {
      "text/plain": [
       "8"
      ]
     },
     "execution_count": 7,
     "metadata": {},
     "output_type": "execute_result"
    }
   ],
   "source": [
    "cols = ['session_number', 'purchased', 'added_in_cart','checked_out','app','September','xg_op_pred', 'rf_op_pred']\n",
    "len(cols)"
   ]
  },
  {
   "cell_type": "code",
   "execution_count": 29,
   "metadata": {},
   "outputs": [],
   "source": [
    "es_callback = EarlyStopping(patience=10, restore_best_weights=True, mode='min', monitor='val_los', min_delta=1000)"
   ]
  },
  {
   "cell_type": "code",
   "execution_count": 46,
   "metadata": {},
   "outputs": [],
   "source": [
    "dnn = Sequential()\n",
    "\n",
    "\n",
    "dnn.add(Dense(32,activation='relu'))\n",
    "# dnn.add(Dropout(0.5))\n",
    "\n",
    "dnn.add(Dense(16,activation='relu'))\n",
    "# dnn.add(Dropout(0.5))\n",
    "\n",
    "dnn.add(Dense(8,activation='relu'))\n",
    "# dnn.add(Dropout(0.5))\n",
    "\n",
    "dnn.add(Dense(4,activation='relu'))\n",
    "\n",
    "dnn.add(Dense(1,activation='relu'))\n",
    "\n",
    "\n",
    "\n",
    "dnn.compile(optimizer='adam', loss='mse',)"
   ]
  },
  {
   "cell_type": "code",
   "execution_count": 47,
   "metadata": {},
   "outputs": [
    {
     "name": "stdout",
     "output_type": "stream",
     "text": [
      "Train on 3800 samples, validate on 1629 samples\n",
      "Epoch 1/100\n",
      "3800/3800 [==============================] - 0s 33us/step - loss: 2753074.2451 - val_loss: 1999018.9278\n",
      "Epoch 2/100\n",
      "3800/3800 [==============================] - 0s 8us/step - loss: 1911143.6225 - val_loss: 1550534.0627\n",
      "Epoch 3/100\n",
      "3800/3800 [==============================] - 0s 8us/step - loss: 1480600.9688 - val_loss: 1335773.7704\n",
      "Epoch 4/100\n",
      "3800/3800 [==============================] - 0s 8us/step - loss: 1288656.3215 - val_loss: 1294956.5165\n",
      "Epoch 5/100\n",
      "3800/3800 [==============================] - 0s 8us/step - loss: 1260052.0456 - val_loss: 1288518.6697\n",
      "Epoch 6/100\n",
      "3800/3800 [==============================] - 0s 7us/step - loss: 1254375.8281 - val_loss: 1285872.5861\n",
      "Epoch 7/100\n",
      "3800/3800 [==============================] - 0s 8us/step - loss: 1256425.4885 - val_loss: 1283162.8799\n"
     ]
    },
    {
     "name": "stderr",
     "output_type": "stream",
     "text": [
      "C:\\Users\\karth\\anaconda3\\envs\\tenflow\\lib\\site-packages\\keras\\callbacks\\callbacks.py:846: RuntimeWarning: Early stopping conditioned on metric `val_los` which is not available. Available metrics are: val_loss,loss\n",
      "  (self.monitor, ','.join(list(logs.keys()))), RuntimeWarning\n"
     ]
    },
    {
     "name": "stdout",
     "output_type": "stream",
     "text": [
      "Epoch 8/100\n",
      "3800/3800 [==============================] - 0s 8us/step - loss: 1250646.5493 - val_loss: 1281588.4098\n",
      "Epoch 9/100\n",
      "3800/3800 [==============================] - 0s 7us/step - loss: 1248793.7566 - val_loss: 1280743.5076\n",
      "Epoch 10/100\n",
      "3800/3800 [==============================] - 0s 8us/step - loss: 1247528.9803 - val_loss: 1277902.7213\n",
      "Epoch 11/100\n",
      "3800/3800 [==============================] - 0s 7us/step - loss: 1246962.0164 - val_loss: 1277356.0773\n",
      "Epoch 12/100\n",
      "3800/3800 [==============================] - 0s 7us/step - loss: 1245749.5461 - val_loss: 1276921.1844\n",
      "Epoch 13/100\n",
      "3800/3800 [==============================] - 0s 7us/step - loss: 1241550.8026 - val_loss: 1275503.1853\n",
      "Epoch 14/100\n",
      "3800/3800 [==============================] - 0s 7us/step - loss: 1244433.8384 - val_loss: 1272016.2728\n",
      "Epoch 15/100\n",
      "3800/3800 [==============================] - 0s 7us/step - loss: 1240179.9285 - val_loss: 1272522.5416\n",
      "Epoch 16/100\n",
      "3800/3800 [==============================] - 0s 8us/step - loss: 1244198.7788 - val_loss: 1272483.5459\n",
      "Epoch 17/100\n",
      "3800/3800 [==============================] - 0s 8us/step - loss: 1243108.6353 - val_loss: 1269402.9519\n",
      "Epoch 18/100\n",
      "3800/3800 [==============================] - 0s 7us/step - loss: 1240590.9984 - val_loss: 1270119.5451\n",
      "Epoch 19/100\n",
      "3800/3800 [==============================] - 0s 8us/step - loss: 1235625.0913 - val_loss: 1267468.2536\n",
      "Epoch 20/100\n",
      "3800/3800 [==============================] - 0s 7us/step - loss: 1240751.2599 - val_loss: 1270002.4888\n",
      "Epoch 21/100\n",
      "3800/3800 [==============================] - 0s 8us/step - loss: 1239480.7488 - val_loss: 1268576.9984\n",
      "Epoch 22/100\n",
      "3800/3800 [==============================] - 0s 9us/step - loss: 1257530.4729 - val_loss: 1269092.2399\n",
      "Epoch 23/100\n",
      "3800/3800 [==============================] - 0s 8us/step - loss: 1242854.3084 - val_loss: 1271234.4344\n",
      "Epoch 24/100\n",
      "3800/3800 [==============================] - 0s 7us/step - loss: 1238043.4231 - val_loss: 1268255.3770\n",
      "Epoch 25/100\n",
      "3800/3800 [==============================] - 0s 8us/step - loss: 1233375.2442 - val_loss: 1264623.4405\n",
      "Epoch 26/100\n",
      "3800/3800 [==============================] - 0s 7us/step - loss: 1240324.0526 - val_loss: 1264725.0465\n",
      "Epoch 27/100\n",
      "3800/3800 [==============================] - 0s 7us/step - loss: 1233233.9955 - val_loss: 1268801.8185\n",
      "Epoch 28/100\n",
      "3800/3800 [==============================] - 0s 8us/step - loss: 1231202.3215 - val_loss: 1267304.3931\n",
      "Epoch 29/100\n",
      "3800/3800 [==============================] - 0s 8us/step - loss: 1233927.1361 - val_loss: 1265233.6927\n",
      "Epoch 30/100\n",
      "3800/3800 [==============================] - 0s 7us/step - loss: 1230925.7303 - val_loss: 1263569.3173\n",
      "Epoch 31/100\n",
      "3800/3800 [==============================] - 0s 8us/step - loss: 1238875.7348 - val_loss: 1268491.4339\n",
      "Epoch 32/100\n",
      "3800/3800 [==============================] - 0s 8us/step - loss: 1231295.3104 - val_loss: 1265513.0298\n",
      "Epoch 33/100\n",
      "3800/3800 [==============================] - 0s 8us/step - loss: 1229940.7340 - val_loss: 1264936.0443\n",
      "Epoch 34/100\n",
      "3800/3800 [==============================] - 0s 7us/step - loss: 1228738.1900 - val_loss: 1265321.7241\n",
      "Epoch 35/100\n",
      "3800/3800 [==============================] - 0s 6us/step - loss: 1231673.8869 - val_loss: 1262752.7943\n",
      "Epoch 36/100\n",
      "3800/3800 [==============================] - 0s 7us/step - loss: 1230799.0045 - val_loss: 1262811.7680\n",
      "Epoch 37/100\n",
      "3800/3800 [==============================] - 0s 7us/step - loss: 1230519.7817 - val_loss: 1264349.3788\n",
      "Epoch 38/100\n",
      "3800/3800 [==============================] - 0s 7us/step - loss: 1225158.6324 - val_loss: 1262656.1692\n",
      "Epoch 39/100\n",
      "3800/3800 [==============================] - 0s 8us/step - loss: 1230085.6123 - val_loss: 1265568.4214\n",
      "Epoch 40/100\n",
      "3800/3800 [==============================] - 0s 8us/step - loss: 1230070.6842 - val_loss: 1263634.6310\n",
      "Epoch 41/100\n",
      "3800/3800 [==============================] - 0s 8us/step - loss: 1228584.1312 - val_loss: 1263395.4184\n",
      "Epoch 42/100\n",
      "3800/3800 [==============================] - 0s 8us/step - loss: 1225864.6649 - val_loss: 1261882.1584\n",
      "Epoch 43/100\n",
      "3800/3800 [==============================] - 0s 7us/step - loss: 1231614.5863 - val_loss: 1265736.7810\n",
      "Epoch 44/100\n",
      "3800/3800 [==============================] - 0s 7us/step - loss: 1227822.6451 - val_loss: 1263548.5643\n",
      "Epoch 45/100\n",
      "3800/3800 [==============================] - 0s 7us/step - loss: 1223440.6612 - val_loss: 1262766.9092\n",
      "Epoch 46/100\n",
      "3800/3800 [==============================] - 0s 7us/step - loss: 1231659.4613 - val_loss: 1261939.9922\n",
      "Epoch 47/100\n",
      "3800/3800 [==============================] - 0s 7us/step - loss: 1223620.7274 - val_loss: 1266666.0450\n",
      "Epoch 48/100\n",
      "3800/3800 [==============================] - 0s 7us/step - loss: 1223791.1316 - val_loss: 1263193.3879\n",
      "Epoch 49/100\n",
      "3800/3800 [==============================] - 0s 7us/step - loss: 1219822.9132 - val_loss: 1260771.4518\n",
      "Epoch 50/100\n",
      "3800/3800 [==============================] - 0s 8us/step - loss: 1219914.4770 - val_loss: 1266388.5087\n",
      "Epoch 51/100\n",
      "3800/3800 [==============================] - 0s 7us/step - loss: 1226657.0296 - val_loss: 1261615.5434\n",
      "Epoch 52/100\n",
      "3800/3800 [==============================] - 0s 8us/step - loss: 1221555.4655 - val_loss: 1262381.3532\n",
      "Epoch 53/100\n",
      "3800/3800 [==============================] - 0s 7us/step - loss: 1223853.1118 - val_loss: 1261854.9208\n",
      "Epoch 54/100\n",
      "3800/3800 [==============================] - 0s 7us/step - loss: 1219423.3359 - val_loss: 1264154.5552\n",
      "Epoch 55/100\n",
      "3800/3800 [==============================] - 0s 7us/step - loss: 1215744.8273 - val_loss: 1262279.0924\n",
      "Epoch 56/100\n",
      "3800/3800 [==============================] - 0s 7us/step - loss: 1214478.1016 - val_loss: 1257813.6510\n",
      "Epoch 57/100\n",
      "3800/3800 [==============================] - 0s 8us/step - loss: 1216954.8117 - val_loss: 1262955.5909\n",
      "Epoch 58/100\n",
      "3800/3800 [==============================] - 0s 7us/step - loss: 1221526.4901 - val_loss: 1260293.8980\n",
      "Epoch 59/100\n",
      "3800/3800 [==============================] - 0s 7us/step - loss: 1222748.2636 - val_loss: 1262193.4437\n",
      "Epoch 60/100\n",
      "3800/3800 [==============================] - 0s 7us/step - loss: 1214776.2113 - val_loss: 1263575.6100\n",
      "Epoch 61/100\n",
      "3800/3800 [==============================] - 0s 8us/step - loss: 1221032.3405 - val_loss: 1261387.7021\n",
      "Epoch 62/100\n",
      "3800/3800 [==============================] - 0s 8us/step - loss: 1225070.4868 - val_loss: 1257112.5882\n",
      "Epoch 63/100\n",
      "3800/3800 [==============================] - 0s 7us/step - loss: 1222808.8026 - val_loss: 1264108.2193\n",
      "Epoch 64/100\n",
      "3800/3800 [==============================] - 0s 7us/step - loss: 1215208.8298 - val_loss: 1260070.2098\n",
      "Epoch 65/100\n",
      "3800/3800 [==============================] - 0s 7us/step - loss: 1221262.3717 - val_loss: 1263214.1591\n",
      "Epoch 66/100\n",
      "3800/3800 [==============================] - 0s 7us/step - loss: 1214088.9692 - val_loss: 1262941.7068\n",
      "Epoch 67/100\n",
      "3800/3800 [==============================] - 0s 7us/step - loss: 1221938.2858 - val_loss: 1264622.1555\n",
      "Epoch 68/100\n",
      "3800/3800 [==============================] - 0s 7us/step - loss: 1213159.0802 - val_loss: 1263138.6291\n",
      "Epoch 69/100\n",
      "3800/3800 [==============================] - 0s 7us/step - loss: 1214886.6785 - val_loss: 1258918.6131\n",
      "Epoch 70/100\n",
      "3800/3800 [==============================] - 0s 7us/step - loss: 1226580.8528 - val_loss: 1262148.1826\n",
      "Epoch 71/100\n",
      "3800/3800 [==============================] - 0s 7us/step - loss: 1218338.0559 - val_loss: 1259717.0160\n",
      "Epoch 72/100\n",
      "3800/3800 [==============================] - 0s 8us/step - loss: 1212211.1760 - val_loss: 1263169.8988\n",
      "Epoch 73/100\n",
      "3800/3800 [==============================] - 0s 8us/step - loss: 1210909.3598 - val_loss: 1261529.1919\n",
      "Epoch 74/100\n",
      "3800/3800 [==============================] - 0s 7us/step - loss: 1213862.3438 - val_loss: 1261715.4936\n",
      "Epoch 75/100\n",
      "3800/3800 [==============================] - 0s 8us/step - loss: 1217112.1390 - val_loss: 1267710.7545\n",
      "Epoch 76/100\n",
      "3800/3800 [==============================] - 0s 7us/step - loss: 1216658.0485 - val_loss: 1258715.4589\n",
      "Epoch 77/100\n",
      "3800/3800 [==============================] - 0s 7us/step - loss: 1209657.0197 - val_loss: 1264650.9849\n",
      "Epoch 78/100\n",
      "3800/3800 [==============================] - 0s 7us/step - loss: 1211371.0715 - val_loss: 1266243.8470\n",
      "Epoch 79/100\n",
      "3800/3800 [==============================] - 0s 8us/step - loss: 1212046.7146 - val_loss: 1263635.6661\n",
      "Epoch 80/100\n",
      "3800/3800 [==============================] - 0s 7us/step - loss: 1228853.9482 - val_loss: 1266578.4488\n",
      "Epoch 81/100\n",
      "3800/3800 [==============================] - 0s 7us/step - loss: 1212848.7640 - val_loss: 1259268.3920\n",
      "Epoch 82/100\n",
      "3800/3800 [==============================] - 0s 8us/step - loss: 1210004.0152 - val_loss: 1264426.5685\n",
      "Epoch 83/100\n",
      "3800/3800 [==============================] - 0s 7us/step - loss: 1213210.7467 - val_loss: 1261929.7582\n",
      "Epoch 84/100\n",
      "3800/3800 [==============================] - 0s 7us/step - loss: 1207589.1661 - val_loss: 1265661.3677\n",
      "Epoch 85/100\n",
      "3800/3800 [==============================] - 0s 8us/step - loss: 1216807.9137 - val_loss: 1261554.1967\n",
      "Epoch 86/100\n",
      "3800/3800 [==============================] - 0s 8us/step - loss: 1210852.5847 - val_loss: 1261440.6013\n",
      "Epoch 87/100\n",
      "3800/3800 [==============================] - 0s 7us/step - loss: 1213070.9790 - val_loss: 1266644.7538\n",
      "Epoch 88/100\n",
      "3800/3800 [==============================] - 0s 7us/step - loss: 1215232.8520 - val_loss: 1264556.7794\n",
      "Epoch 89/100\n",
      "3800/3800 [==============================] - 0s 7us/step - loss: 1211515.9046 - val_loss: 1259394.4320\n",
      "Epoch 90/100\n",
      "3800/3800 [==============================] - 0s 7us/step - loss: 1211687.9889 - val_loss: 1261439.1232\n",
      "Epoch 91/100\n",
      "3800/3800 [==============================] - 0s 7us/step - loss: 1208429.8294 - val_loss: 1263087.5793\n",
      "Epoch 92/100\n",
      "3800/3800 [==============================] - 0s 8us/step - loss: 1208136.8923 - val_loss: 1264291.6423\n",
      "Epoch 93/100\n",
      "3800/3800 [==============================] - 0s 8us/step - loss: 1208767.6949 - val_loss: 1261093.2256\n",
      "Epoch 94/100\n",
      "3800/3800 [==============================] - 0s 7us/step - loss: 1211698.2944 - val_loss: 1262425.4704\n",
      "Epoch 95/100\n",
      "3800/3800 [==============================] - 0s 7us/step - loss: 1218253.9716 - val_loss: 1265219.5740\n",
      "Epoch 96/100\n",
      "3800/3800 [==============================] - 0s 7us/step - loss: 1210877.8006 - val_loss: 1263687.5960\n",
      "Epoch 97/100\n",
      "3800/3800 [==============================] - 0s 7us/step - loss: 1209177.0576 - val_loss: 1260421.1244\n",
      "Epoch 98/100\n",
      "3800/3800 [==============================] - 0s 7us/step - loss: 1231766.7648 - val_loss: 1268584.2878\n",
      "Epoch 99/100\n",
      "3800/3800 [==============================] - 0s 7us/step - loss: 1220069.4790 - val_loss: 1261860.6523\n",
      "Epoch 100/100\n",
      "3800/3800 [==============================] - 0s 7us/step - loss: 1207265.4511 - val_loss: 1263872.4492\n"
     ]
    },
    {
     "data": {
      "text/plain": [
       "<keras.callbacks.callbacks.History at 0x23088001d30>"
      ]
     },
     "execution_count": 47,
     "metadata": {},
     "output_type": "execute_result"
    }
   ],
   "source": [
    "dnn.fit(val_X_train[cols].values,\n",
    "        val_y_train.values,\n",
    "        epochs=100,\n",
    "        batch_size=150,\n",
    "        validation_data=(val_X_test[cols].values, val_y_test.values),\n",
    "        callbacks = [es_callback]\n",
    "       )"
   ]
  },
  {
   "cell_type": "code",
   "execution_count": 48,
   "metadata": {},
   "outputs": [
    {
     "data": {
      "text/plain": [
       "<AxesSubplot:>"
      ]
     },
     "execution_count": 48,
     "metadata": {},
     "output_type": "execute_result"
    },
    {
     "data": {
      "image/png": "[encoded data removed]",
      "text/plain": [
       "<Figure size 432x288 with 1 Axes>"
      ]
     },
     "metadata": {
      "needs_background": "light"
     },
     "output_type": "display_data"
    }
   ],
   "source": [
    "pd.DataFrame(dnn.history.history).plot()"
   ]
  },
  {
   "cell_type": "code",
   "execution_count": 49,
   "metadata": {},
   "outputs": [],
   "source": [
    "dnn_pred = dnn.predict(val_X_test[cols])"
   ]
  },
  {
   "cell_type": "code",
   "execution_count": 50,
   "metadata": {},
   "outputs": [
    {
     "data": {
      "text/plain": [
       "1.8095280214720617"
      ]
     },
     "execution_count": 50,
     "metadata": {},
     "output_type": "execute_result"
    }
   ],
   "source": [
    "from sklearn.metrics import mean_squared_log_error, mean_absolute_error\n",
    "np.sqrt(mean_squared_log_error(dnn_pred, val_y_test))"
   ]
  },
  {
   "cell_type": "code",
   "execution_count": 51,
   "metadata": {},
   "outputs": [],
   "source": [
    "def save_submission(estimator, name):\n",
    "    pred = estimator.predict(test[cols])\n",
    "    sub = pd.read_csv('Sample Submission.csv')\n",
    "    sub[\"time_spent\"]=abs(pred)\n",
    "    sub.to_csv('Submissions/'+name+'.csv', index=False)\n",
    "    estimator.save('Models/'+name)"
   ]
  },
  {
   "cell_type": "code",
   "execution_count": 52,
   "metadata": {},
   "outputs": [],
   "source": [
    "# X_test = test.drop(['date'], axis=1)\n",
    "save_submission(dnn, 'DNN+XGB+RFR_V3_1.8095')"
   ]
  },
  {
   "cell_type": "code",
   "execution_count": null,
   "metadata": {},
   "outputs": [],
   "source": []
  }
 ],
 "metadata": {
  "kernelspec": {
   "display_name": "Python 3",
   "language": "python",
   "name": "python3"
  },
  "language_info": {
   "codemirror_mode": {
    "name": "ipython",
    "version": 3
   },
   "file_extension": ".py",
   "mimetype": "text/x-python",
   "name": "python",
   "nbconvert_exporter": "python",
   "pygments_lexer": "ipython3",
   "version": "3.6.12"
  }
 },
 "nbformat": 4,
 "nbformat_minor": 4
}
